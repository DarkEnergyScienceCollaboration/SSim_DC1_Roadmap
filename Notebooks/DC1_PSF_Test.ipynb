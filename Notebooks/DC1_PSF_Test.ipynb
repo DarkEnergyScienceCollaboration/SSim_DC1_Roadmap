{
 "cells": [
  {
   "cell_type": "markdown",
   "metadata": {},
   "source": [
    "## DC1 Simple PSF Tests\n",
    "\n",
    "Some simple tests of the DC1 PSF. This notebook makes use of some of the LSST stack packages (i.e., `daf`). An example kernel that loads these is available in [lsst-kernel.sh](./lsst-kernel.sh).\n",
    "\n",
    "Validated by [@kadrlica](https://github.com/kadrlica): 2017-12-06"
   ]
  },
  {
   "cell_type": "code",
   "execution_count": 1,
   "metadata": {},
   "outputs": [],
   "source": [
    "%matplotlib inline\n",
    "\n",
    "import os\n",
    "import numpy as np\n",
    "import matplotlib.pyplot as plt\n",
    "import pandas as pd\n",
    "import dask.dataframe as dd\n",
    "import lsst.daf.persistence\n",
    "DATA_DIR_DITHERED_NEW = \"/global/cscratch1/sd/descdm/DC1/rerun/DC1-imsim-dithered\"\n",
    "DATA_DIR_PHOSIM = \"/global/cscratch1/sd/descdm/DC1/DC1-phoSim-3a\"\n",
    "DATA_DIR_UNDITHERED_NEW = \"/global/cscratch1/sd/descdm/DC1/rerun/DC1-imsim-undithered\"\n",
    "\n",
    "os.environ['OMP_NUM_THREADS']='1'"
   ]
  },
  {
   "cell_type": "code",
   "execution_count": 2,
   "metadata": {},
   "outputs": [],
   "source": [
    "butler = lsst.daf.persistence.Butler(DATA_DIR_DITHERED_NEW)"
   ]
  },
  {
   "cell_type": "code",
   "execution_count": 3,
   "metadata": {},
   "outputs": [
    {
     "name": "stdout",
     "output_type": "stream",
     "text": [
      "CPU times: user 8.2 s, sys: 3.11 s, total: 11.3 s\n",
      "Wall time: 33.5 s\n"
     ]
    }
   ],
   "source": [
    "%%time\n",
    "datarefs = butler.subset('calexp')\n",
    "# This cell will take several minutes the first time you run it, but will be fast afterwards"
   ]
  },
  {
   "cell_type": "code",
   "execution_count": 4,
   "metadata": {},
   "outputs": [],
   "source": [
    "import sqlite3\n",
    "from sqlite3 import Error\n",
    " \n",
    "def create_connection(db_file):\n",
    "    try:\n",
    "        conn = sqlite3.connect(db_file)\n",
    "        return conn\n",
    "    except Error as e:\n",
    "        print(e)\n",
    " \n",
    "    return None"
   ]
  },
  {
   "cell_type": "code",
   "execution_count": 5,
   "metadata": {},
   "outputs": [],
   "source": [
    "conn = create_connection('/global/projecta/projectdirs/lsst/groups/SSim/DC1/minion_1016_sqlite_new_dithers.db')"
   ]
  },
  {
   "cell_type": "code",
   "execution_count": 6,
   "metadata": {},
   "outputs": [],
   "source": [
    "def get_airmass_raw_seeing(conn,visit):\n",
    "    cur = conn.cursor()\n",
    "    cur.execute(\"SELECT airmass, filtSkyBrightness, finSeeing, rawSeeing, visitExpTime, fiveSigmaDepth FROM ObsHistory WHERE obsHistID==%d\" %(visit))\n",
    "    rows = cur.fetchall()\n",
    "    return rows[0][0], rows[0][1], rows[0][2], rows[0][3], rows[0][4], rows[0][5]"
   ]
  },
  {
   "cell_type": "code",
   "execution_count": 7,
   "metadata": {},
   "outputs": [
    {
     "data": {
      "text/plain": [
       "183767"
      ]
     },
     "execution_count": 7,
     "metadata": {},
     "output_type": "execute_result"
    }
   ],
   "source": [
    "len(datarefs.cache)"
   ]
  },
  {
   "cell_type": "code",
   "execution_count": 8,
   "metadata": {
    "scrolled": true
   },
   "outputs": [
    {
     "name": "stdout",
     "output_type": "stream",
     "text": [
      "CPU times: user 1.65 s, sys: 1.97 s, total: 3.61 s\n",
      "Wall time: 3.63 s\n"
     ]
    }
   ],
   "source": [
    "%%time\n",
    "av_psf = np.zeros((41,41))\n",
    "# Take a subsample of datarefs so that this doesn't take forever\n",
    "for i in np.arange(len(datarefs.cache))[::10000]:\n",
    "    #Datarefs.cache used to print the correct format for sensor and raft. I hacked my way in...\n",
    "    sensor = datarefs.cache[i]['sensor'][0]+','+datarefs.cache[i]['sensor'][1]\n",
    "    raft = datarefs.cache[i]['raft'][0]+','+datarefs.cache[i]['raft'][1]\n",
    "    test_calexp = butler.get('calexp',filter='r',visit=datarefs.cache[i]['visit'],raft=raft,sensor=sensor,immediate=True)\n",
    "    av_psf = av_psf + test_calexp.getPsf().computeImage().getArray()"
   ]
  },
  {
   "cell_type": "code",
   "execution_count": 9,
   "metadata": {},
   "outputs": [],
   "source": [
    "import galsim\n",
    "class PSFbase(object):\n",
    "    \"\"\"\n",
    "    This is the base class for wrappers of GalSim's PSF classes.  To apply a PSF to GalSim images\n",
    "    using the GalSim Instance Catalog and GalSim Interpreter, the user must define a daughter\n",
    "    class of this class and instantiate it as the member variable self.PSF in the GalSim Instance Catalog.\n",
    "    Any Daughter class of this class must have a member method _getPSF which accepts the coordinates\n",
    "    xPupil and yPupil in arcseconds as kwargs.  This method will instantiate a psf object at those\n",
    "    coordinates and return it.\n",
    "    The method applyPSF is defined in this class and should not be overwritten.  It handles the task of actually\n",
    "    convolving the PSF returned by _getPSF.\n",
    "    Consult GalSim's documentation to see what kinds of PSFs are available.\n",
    "    See the classes DoubleGaussianPSF and SNRdocumentPSF below for example implementations.\n",
    "    See galSimCompoundGenerator.py and galSimStarGenerator.py for example usages.\n",
    "    \"\"\"\n",
    "\n",
    "    def _getPSF(self, xPupil=None, yPupil=None):\n",
    "        \"\"\"\n",
    "        If it had been implemented, this would return a GalSim PSF instantiation at the\n",
    "        coordinates and wavelength specified and returned it to applyPSF.  As it is, this\n",
    "        class has not been implemented and is left to the user to implement in Daughter\n",
    "        classes of PSFbase.\n",
    "        @param [in] xPupil the x coordinate on the pupil in arc seconds\n",
    "        @param [in] yPupil the y coordinate on the pupil in arc seconds\n",
    "        \"\"\"\n",
    "\n",
    "        raise NotImplementedError(\"There is not _getPSF for PSFbase; define a daughter class and define your own\")\n",
    "\n",
    "    def applyPSF(self, xPupil=None, yPupil=None, obj=None, **kwargs):\n",
    "        \"\"\"\n",
    "        Apply the PSF to a GalSim GSObject\n",
    "        This method accepts the x and y pupil coordinates in arc seconds as well\n",
    "        as a GalSim GSObject.  The method calculates the PSF parameters based on xPupil\n",
    "        and yPupil, constructs a Galsim GSObject corresponding to the PSF function, and convolves\n",
    "        the PSF with the GSObject, returning the result of the convolution.\n",
    "        In the case of point sources, this object returns the raw PSF, rather than attempting\n",
    "        a convolution (since there is nothing to convolve with).\n",
    "        @param [in] xPupil the x pupil coordinate in arc seconds\n",
    "        @param [in] yPupil the y pupil coordinate in arc seconds\n",
    "        @param [in] obj is a GalSim GSObject (an astronomical object) with which\n",
    "        to convolve the PSF (optional)\n",
    "        \"\"\"\n",
    "\n",
    "        #use the user-defined _getPSF method to calculate the PSF at these specific\n",
    "        #coordinates and (optionally) wavelength\n",
    "        psf = self._getPSF(xPupil=xPupil, yPupil=yPupil, **kwargs)\n",
    "\n",
    "        if obj is not None:\n",
    "            #if we are dealing with an extended object, convolve it with the psf\n",
    "            obj = galsim.Convolve(obj, psf)\n",
    "            return obj\n",
    "        else:\n",
    "            #if there is no object (i.e. if this is a point source), just return the PSF\n",
    "            return psf\n",
    "\n",
    "class Kolmogorov_and_Gaussian_PSF(PSFbase):\n",
    "    \"\"\"\n",
    "    This PSF class is based on David Kirkby's presentation to the DESC Survey Simulations\n",
    "    working group on 23 March 2017.\n",
    "    https://confluence.slac.stanford.edu/pages/viewpage.action?spaceKey=LSSTDESC&title=SSim+2017-03-23\n",
    "    (you will need a SLAC Confluence account to access that link)\n",
    "    \"\"\"\n",
    "\n",
    "    def __init__(self, airmass=1.2, rawSeeing=0.7, band='r'):\n",
    "        \"\"\"\n",
    "        Parameters\n",
    "        ----------\n",
    "        airmass\n",
    "        rawSeeing is the FWHM seeing at zenith at 500 nm in arc seconds\n",
    "        (provided by OpSim)\n",
    "        band is the bandpass of the observation [u,g,r,i,z,y]\n",
    "        \"\"\"\n",
    "        # This code was provided by David Kirkby in a private communication\n",
    "\n",
    "        wlen_eff = dict(u=365.49, g=480.03, r=622.20, i=754.06, z=868.21, y=991.66)[band]\n",
    "        # wlen_eff is from Table 2 of LSE-40 (y=y2)\n",
    "\n",
    "        FWHMatm = rawSeeing * (wlen_eff / 500.) ** -0.3 * airmass ** 0.6\n",
    "        # From LSST-20160 eqn (4.1)\n",
    "\n",
    "        FWHMsys = np.sqrt(0.25**2 + 0.3**2 + 0.08**2) * airmass ** 0.6\n",
    "        # From LSST-20160 eqn (4.2)\n",
    "\n",
    "        atm = galsim.Kolmogorov(fwhm=FWHMatm)\n",
    "        sys = galsim.Gaussian(fwhm=FWHMsys)\n",
    "        psf = galsim.Convolve((atm, sys))\n",
    "\n",
    "        self._cached_psf = psf\n",
    "    def _getPSF(self, xPupil=None, yPupil=None):\n",
    "        return self._cached_psf"
   ]
  },
  {
   "cell_type": "code",
   "execution_count": 10,
   "metadata": {},
   "outputs": [],
   "source": [
    "#psf_input = Kolmogorov_and_Gaussian_PSF(airmass=meta.get('BORE-AIRMASS'),\n",
    "#                                        rawSeeing=meta.get('DOMESEE'),\n",
    "#                                        band='r')\n",
    "\n",
    "psf_input = Kolmogorov_and_Gaussian_PSF(airmass=1.2,\n",
    "                                        rawSeeing=0.7,\n",
    "                                        band='r')"
   ]
  },
  {
   "cell_type": "code",
   "execution_count": 11,
   "metadata": {},
   "outputs": [],
   "source": [
    "test = psf_input._getPSF()"
   ]
  },
  {
   "cell_type": "code",
   "execution_count": 12,
   "metadata": {},
   "outputs": [],
   "source": [
    "def get_psf_array(calexp):\n",
    "    return calexp.getPsf().computeImage().getArray()"
   ]
  },
  {
   "cell_type": "code",
   "execution_count": 13,
   "metadata": {},
   "outputs": [],
   "source": [
    "def get_visit_PSF(repo_path,nvisits=0):\n",
    "    butler = lsst.daf.persistence.Butler(repo_path)\n",
    "    datarefs = butler.subset('calexp')\n",
    "    if nvisits==0:\n",
    "        visits = datarefs.cache\n",
    "    else:\n",
    "        indices = np.random.choice(range(len(datarefs.cache)),size=nvisits)\n",
    "        visits = np.array(datarefs.cache)[indices]\n",
    "    psf_input = []\n",
    "    psf_output = []\n",
    "    visit_X = []\n",
    "    visit_seeing = []\n",
    "    for i,visitId in enumerate(visits):\n",
    "        try:\n",
    "            #This used to work without these two lines below...\n",
    "            sensor = visitId['sensor'][0]+','+visitId['sensor'][1]\n",
    "            raft = visitId['raft'][0]+','+visitId['raft'][1]\n",
    "            visitId['sensor']=sensor\n",
    "            visitId['raft']=raft\n",
    "            ##################\n",
    "            calexp = butler.get('calexp',visitId)\n",
    "            psf_output.append(get_psf_array(calexp))\n",
    "            X, sky, fwhm, rawseeing, exptime, depth_opsim = get_airmass_raw_seeing(conn,visitId['visit'])\n",
    "            psf = Kolmogorov_and_Gaussian_PSF(airmass=X,rawSeeing=rawseeing,band='r')\n",
    "            aux = psf._getPSF()\n",
    "            psf_input.append(aux.drawImage(nx=41,ny=41,scale=0.2, use_true_center=False).array)\n",
    "            visit_seeing.append(rawseeing)\n",
    "            visit_X.append(X)\n",
    "        except:\n",
    "            print('File not found')\n",
    "            continue\n",
    "    return psf_output, psf_input, visit_seeing, visit_X"
   ]
  },
  {
   "cell_type": "code",
   "execution_count": 14,
   "metadata": {},
   "outputs": [],
   "source": [
    "psf_out, psf_in, FWHM, X= get_visit_PSF(DATA_DIR_DITHERED_NEW,nvisits=10)"
   ]
  },
  {
   "cell_type": "code",
   "execution_count": 15,
   "metadata": {},
   "outputs": [
    {
     "data": {
      "text/plain": [
       "<matplotlib.colorbar.Colorbar at 0x2af87ca79cc0>"
      ]
     },
     "execution_count": 15,
     "metadata": {},
     "output_type": "execute_result"
    },
    {
     "data": {
      "image/png": "[encoded data removed]",
      "text/plain": [
       "<matplotlib.figure.Figure at 0x2af868a89048>"
      ]
     },
     "metadata": {},
     "output_type": "display_data"
    }
   ],
   "source": [
    "plt.imshow(psf_out[0],interpolation='none')\n",
    "plt.colorbar()"
   ]
  },
  {
   "cell_type": "code",
   "execution_count": 16,
   "metadata": {},
   "outputs": [
    {
     "name": "stderr",
     "output_type": "stream",
     "text": [
      "/global/common/software/lsst/common/miniconda/py3-4.2.12/lib/python3.6/site-packages/ipykernel/__main__.py:1: RuntimeWarning: invalid value encountered in true_divide\n",
      "  if __name__ == '__main__':\n"
     ]
    },
    {
     "data": {
      "text/plain": [
       "<matplotlib.colorbar.Colorbar at 0x2af87d72acc0>"
      ]
     },
     "execution_count": 16,
     "metadata": {},
     "output_type": "execute_result"
    },
    {
     "data": {
      "image/png": "[encoded data removed]",
      "text/plain": [
       "<matplotlib.figure.Figure at 0x2af868a7f048>"
      ]
     },
     "metadata": {},
     "output_type": "display_data"
    }
   ],
   "source": [
    "plt.imshow(np.mean(psf_out/np.sum(psf_out,axis=0)-psf_in/np.sum(psf_in,axis=0),axis=0),interpolation='none')\n",
    "plt.colorbar()"
   ]
  }
 ],
 "metadata": {
  "kernelspec": {
   "display_name": "lsst",
   "language": "python",
   "name": "lsst"
  },
  "language_info": {
   "codemirror_mode": {
    "name": "ipython",
    "version": 3
   },
   "file_extension": ".py",
   "mimetype": "text/x-python",
   "name": "python",
   "nbconvert_exporter": "python",
   "pygments_lexer": "ipython3",
   "version": "3.6.2"
  }
 },
 "nbformat": 4,
 "nbformat_minor": 2
}
