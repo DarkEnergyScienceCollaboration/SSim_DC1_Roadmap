{
 "cells": [
  {
   "cell_type": "code",
   "execution_count": 1,
   "metadata": {
    "collapsed": false
   },
   "outputs": [
    {
     "name": "stdout",
     "output_type": "stream",
     "text": [
      "Populating the interactive namespace from numpy and matplotlib\n",
      "1.11.0 0.18.1\n"
     ]
    }
   ],
   "source": [
    "%pylab inline\n",
    "\n",
    "import numpy as np\n",
    "import pandas as pd\n",
    "import dask.dataframe as dd\n",
    "\n",
    "print(np.__version__, pd.__version__)"
   ]
  },
  {
   "cell_type": "markdown",
   "metadata": {},
   "source": [
    "Read the 15 Gbyte dataframe located in a HDF5 data file into a dask dataframe.  This will allow us to do out of memory operations."
   ]
  },
  {
   "cell_type": "code",
   "execution_count": 2,
   "metadata": {
    "collapsed": false
   },
   "outputs": [],
   "source": [
    "df = dd.read_hdf('dithered.hdf', key='dithered')"
   ]
  },
  {
   "cell_type": "code",
   "execution_count": 3,
   "metadata": {
    "collapsed": true
   },
   "outputs": [
    {
     "name": "stdout",
     "output_type": "stream",
     "text": [
      "<class 'dask.dataframe.core.DataFrame'>\n",
      "Data columns (total 166 columns):\n",
      "FLAGS1                                       uint64\n",
      "FLAGS2                                       uint64\n",
      "FLAGS3                                       int64\n",
      "id                                           int64\n",
      "coord_ra                                     float64\n",
      "coord_dec                                    float64\n",
      "parent                                       int64\n",
      "deblend_nChild                               int64\n",
      "deblend_psfCenter_x                          float64\n",
      "deblend_psfCenter_y                          float64\n",
      "deblend_psfFlux                              float64\n",
      "base_GaussianCentroid_x                      float64\n",
      "base_GaussianCentroid_y                      float64\n",
      "base_NaiveCentroid_x                         float64\n",
      "base_NaiveCentroid_y                         float64\n",
      "base_SdssCentroid_x                          float64\n",
      "base_SdssCentroid_y                          float64\n",
      "base_SdssCentroid_xSigma                     float64\n",
      "base_SdssCentroid_ySigma                     float64\n",
      "base_InputCount_value                        int64\n",
      "base_SdssShape_xx                            float64\n",
      "base_SdssShape_yy                            float64\n",
      "base_SdssShape_xy                            float64\n",
      "base_SdssShape_xxSigma                       float64\n",
      "base_SdssShape_yySigma                       float64\n",
      "base_SdssShape_xySigma                       float64\n",
      "base_SdssShape_x                             float64\n",
      "base_SdssShape_y                             float64\n",
      "base_SdssShape_flux                          float64\n",
      "base_SdssShape_fluxSigma                     float64\n",
      "base_SdssShape_psf_xx                        float64\n",
      "base_SdssShape_psf_yy                        float64\n",
      "base_SdssShape_psf_xy                        float64\n",
      "base_SdssShape_flux_xx_Cov                   float64\n",
      "base_SdssShape_flux_yy_Cov                   float64\n",
      "base_SdssShape_flux_xy_Cov                   float64\n",
      "ext_shapeHSM_HsmPsfMoments_x                 float64\n",
      "ext_shapeHSM_HsmPsfMoments_y                 float64\n",
      "ext_shapeHSM_HsmPsfMoments_xx                float64\n",
      "ext_shapeHSM_HsmPsfMoments_yy                float64\n",
      "ext_shapeHSM_HsmPsfMoments_xy                float64\n",
      "ext_shapeHSM_HsmShapeRegauss_e1              float64\n",
      "ext_shapeHSM_HsmShapeRegauss_e2              float64\n",
      "ext_shapeHSM_HsmShapeRegauss_sigma           float64\n",
      "ext_shapeHSM_HsmShapeRegauss_resolution      float64\n",
      "ext_shapeHSM_HsmSourceMoments_x              float64\n",
      "ext_shapeHSM_HsmSourceMoments_y              float64\n",
      "ext_shapeHSM_HsmSourceMoments_xx             float64\n",
      "ext_shapeHSM_HsmSourceMoments_yy             float64\n",
      "ext_shapeHSM_HsmSourceMoments_xy             float64\n",
      "modelfit_DoubleShapeletPsfApprox_0_xx        float64\n",
      "modelfit_DoubleShapeletPsfApprox_0_yy        float64\n",
      "modelfit_DoubleShapeletPsfApprox_0_xy        float64\n",
      "modelfit_DoubleShapeletPsfApprox_0_x         float64\n",
      "modelfit_DoubleShapeletPsfApprox_0_y         float64\n",
      "modelfit_DoubleShapeletPsfApprox_0_0         float64\n",
      "modelfit_DoubleShapeletPsfApprox_0_1         float64\n",
      "modelfit_DoubleShapeletPsfApprox_0_2         float64\n",
      "modelfit_DoubleShapeletPsfApprox_0_3         float64\n",
      "modelfit_DoubleShapeletPsfApprox_0_4         float64\n",
      "modelfit_DoubleShapeletPsfApprox_0_5         float64\n",
      "modelfit_DoubleShapeletPsfApprox_1_xx        float64\n",
      "modelfit_DoubleShapeletPsfApprox_1_yy        float64\n",
      "modelfit_DoubleShapeletPsfApprox_1_xy        float64\n",
      "modelfit_DoubleShapeletPsfApprox_1_x         float64\n",
      "modelfit_DoubleShapeletPsfApprox_1_y         float64\n",
      "modelfit_DoubleShapeletPsfApprox_1_0         float64\n",
      "modelfit_DoubleShapeletPsfApprox_1_1         float64\n",
      "modelfit_DoubleShapeletPsfApprox_1_2         float64\n",
      "base_CircularApertureFlux_3_0_flux           float64\n",
      "base_CircularApertureFlux_3_0_fluxSigma      float64\n",
      "base_CircularApertureFlux_4_5_flux           float64\n",
      "base_CircularApertureFlux_4_5_fluxSigma      float64\n",
      "base_CircularApertureFlux_6_0_flux           float64\n",
      "base_CircularApertureFlux_6_0_fluxSigma      float64\n",
      "base_CircularApertureFlux_9_0_flux           float64\n",
      "base_CircularApertureFlux_9_0_fluxSigma      float64\n",
      "base_CircularApertureFlux_12_0_flux          float64\n",
      "base_CircularApertureFlux_12_0_fluxSigma     float64\n",
      "base_CircularApertureFlux_17_0_flux          float64\n",
      "base_CircularApertureFlux_17_0_fluxSigma     float64\n",
      "base_CircularApertureFlux_25_0_flux          float64\n",
      "base_CircularApertureFlux_25_0_fluxSigma     float64\n",
      "base_CircularApertureFlux_35_0_flux          float64\n",
      "base_CircularApertureFlux_35_0_fluxSigma     float64\n",
      "base_CircularApertureFlux_50_0_flux          float64\n",
      "base_CircularApertureFlux_50_0_fluxSigma     float64\n",
      "base_CircularApertureFlux_70_0_flux          float64\n",
      "base_CircularApertureFlux_70_0_fluxSigma     float64\n",
      "base_GaussianFlux_flux                       float64\n",
      "base_GaussianFlux_fluxSigma                  float64\n",
      "base_PsfFlux_flux                            float64\n",
      "base_PsfFlux_fluxSigma                       float64\n",
      "base_Variance_value                          float64\n",
      "modelfit_CModel_initial_flux                 float64\n",
      "modelfit_CModel_initial_fluxSigma            float64\n",
      "modelfit_CModel_initial_flux_inner           float64\n",
      "modelfit_CModel_initial_ellipse_xx           float64\n",
      "modelfit_CModel_initial_ellipse_yy           float64\n",
      "modelfit_CModel_initial_ellipse_xy           float64\n",
      "modelfit_CModel_initial_objective            float64\n",
      "modelfit_CModel_initial_nonlinear_0          float64\n",
      "modelfit_CModel_initial_nonlinear_1          float64\n",
      "modelfit_CModel_initial_nonlinear_2          float64\n",
      "modelfit_CModel_initial_fixed_0              float64\n",
      "modelfit_CModel_initial_fixed_1              float64\n",
      "modelfit_CModel_initial_nIter                int64\n",
      "modelfit_CModel_initial_time                 float64\n",
      "modelfit_CModel_exp_flux                     float64\n",
      "modelfit_CModel_exp_fluxSigma                float64\n",
      "modelfit_CModel_exp_flux_inner               float64\n",
      "modelfit_CModel_exp_ellipse_xx               float64\n",
      "modelfit_CModel_exp_ellipse_yy               float64\n",
      "modelfit_CModel_exp_ellipse_xy               float64\n",
      "modelfit_CModel_exp_objective                float64\n",
      "modelfit_CModel_exp_nonlinear_0              float64\n",
      "modelfit_CModel_exp_nonlinear_1              float64\n",
      "modelfit_CModel_exp_nonlinear_2              float64\n",
      "modelfit_CModel_exp_fixed_0                  float64\n",
      "modelfit_CModel_exp_fixed_1                  float64\n",
      "modelfit_CModel_exp_nIter                    int64\n",
      "modelfit_CModel_exp_time                     float64\n",
      "modelfit_CModel_dev_flux                     float64\n",
      "modelfit_CModel_dev_fluxSigma                float64\n",
      "modelfit_CModel_dev_flux_inner               float64\n",
      "modelfit_CModel_dev_ellipse_xx               float64\n",
      "modelfit_CModel_dev_ellipse_yy               float64\n",
      "modelfit_CModel_dev_ellipse_xy               float64\n",
      "modelfit_CModel_dev_objective                float64\n",
      "modelfit_CModel_dev_nonlinear_0              float64\n",
      "modelfit_CModel_dev_nonlinear_1              float64\n",
      "modelfit_CModel_dev_nonlinear_2              float64\n",
      "modelfit_CModel_dev_fixed_0                  float64\n",
      "modelfit_CModel_dev_fixed_1                  float64\n",
      "modelfit_CModel_dev_nIter                    int64\n",
      "modelfit_CModel_dev_time                     float64\n",
      "modelfit_CModel_flux                         float64\n",
      "modelfit_CModel_fluxSigma                    float64\n",
      "modelfit_CModel_flux_inner                   float64\n",
      "modelfit_CModel_fracDev                      float64\n",
      "modelfit_CModel_objective                    float64\n",
      "modelfit_CModel_ellipse_xx                   float64\n",
      "modelfit_CModel_ellipse_yy                   float64\n",
      "modelfit_CModel_ellipse_xy                   float64\n",
      "modelfit_CModel_region_initial_ellipse_xx    float64\n",
      "modelfit_CModel_region_initial_ellipse_yy    float64\n",
      "modelfit_CModel_region_initial_ellipse_xy    float64\n",
      "modelfit_CModel_region_final_ellipse_xx      float64\n",
      "modelfit_CModel_region_final_ellipse_yy      float64\n",
      "modelfit_CModel_region_final_ellipse_xy      float64\n",
      "modelfit_CModel_exp_apCorr                   float64\n",
      "modelfit_CModel_exp_apCorrSigma              float64\n",
      "base_PsfFlux_apCorr                          float64\n",
      "base_PsfFlux_apCorrSigma                     float64\n",
      "modelfit_CModel_apCorr                       float64\n",
      "modelfit_CModel_apCorrSigma                  float64\n",
      "modelfit_CModel_initial_apCorr               float64\n",
      "modelfit_CModel_initial_apCorrSigma          float64\n",
      "base_GaussianFlux_apCorr                     float64\n",
      "base_GaussianFlux_apCorrSigma                float64\n",
      "modelfit_CModel_dev_apCorr                   float64\n",
      "modelfit_CModel_dev_apCorrSigma              float64\n",
      "base_ClassificationExtendedness_value        float64\n",
      "footprint                                    int64\n",
      "projectId                                    int64\n",
      "patch                                        object\n"
     ]
    }
   ],
   "source": [
    "df.info()"
   ]
  },
  {
   "cell_type": "markdown",
   "metadata": {},
   "source": [
    "Now do a dask operation and put the results (which will fit in memory) into a normal pandas data frame.  This selects a patch and only some columns for the result."
   ]
  },
  {
   "cell_type": "code",
   "execution_count": 4,
   "metadata": {
    "collapsed": true
   },
   "outputs": [],
   "source": [
    "# The columns we actually want to use\n",
    "requested_columns = ['patch', 'footprint','base_PsfFlux_flux','base_PsfFlux_fluxSigma']"
   ]
  },
  {
   "cell_type": "markdown",
   "metadata": {},
   "source": [
    "This is all of the entries, no selection and some of the columns."
   ]
  },
  {
   "cell_type": "code",
   "execution_count": 5,
   "metadata": {
    "collapsed": false
   },
   "outputs": [
    {
     "data": {
      "text/plain": [
       "(12311932, 4)"
      ]
     },
     "execution_count": 5,
     "metadata": {},
     "output_type": "execute_result"
    }
   ],
   "source": [
    "selected_columns = df[requested_columns].compute()\n",
    "selected_columns.shape"
   ]
  },
  {
   "cell_type": "markdown",
   "metadata": {},
   "source": [
    "This applies a selection and only returns the requested columns"
   ]
  },
  {
   "cell_type": "code",
   "execution_count": 6,
   "metadata": {
    "collapsed": false
   },
   "outputs": [
    {
     "data": {
      "text/plain": [
       "(79076, 4)"
      ]
     },
     "execution_count": 6,
     "metadata": {},
     "output_type": "execute_result"
    }
   ],
   "source": [
    "selected_patch = df.query(\"patch == \\\"'10,10'\\\"\")[requested_columns].compute()\n",
    "selected_patch.shape"
   ]
  },
  {
   "cell_type": "markdown",
   "metadata": {},
   "source": [
    "This selects the first 100 entries with all of the columns."
   ]
  },
  {
   "cell_type": "code",
   "execution_count": 7,
   "metadata": {
    "collapsed": false
   },
   "outputs": [
    {
     "data": {
      "text/plain": [
       "(100, 166)"
      ]
     },
     "execution_count": 7,
     "metadata": {},
     "output_type": "execute_result"
    }
   ],
   "source": [
    "first_100 = df.head(100)\n",
    "first_100.shape"
   ]
  },
  {
   "cell_type": "code",
   "execution_count": 8,
   "metadata": {
    "collapsed": false
   },
   "outputs": [
    {
     "data": {
      "text/html": [
       "<div>\n",
       "<table border=\"1\" class=\"dataframe\">\n",
       "  <thead>\n",
       "    <tr style=\"text-align: right;\">\n",
       "      <th></th>\n",
       "      <th>FLAGS1</th>\n",
       "      <th>FLAGS2</th>\n",
       "      <th>FLAGS3</th>\n",
       "      <th>id</th>\n",
       "      <th>coord_ra</th>\n",
       "      <th>coord_dec</th>\n",
       "      <th>parent</th>\n",
       "      <th>deblend_nChild</th>\n",
       "      <th>deblend_psfCenter_x</th>\n",
       "      <th>deblend_psfCenter_y</th>\n",
       "      <th>...</th>\n",
       "      <th>modelfit_CModel_initial_apCorr</th>\n",
       "      <th>modelfit_CModel_initial_apCorrSigma</th>\n",
       "      <th>base_GaussianFlux_apCorr</th>\n",
       "      <th>base_GaussianFlux_apCorrSigma</th>\n",
       "      <th>modelfit_CModel_dev_apCorr</th>\n",
       "      <th>modelfit_CModel_dev_apCorrSigma</th>\n",
       "      <th>base_ClassificationExtendedness_value</th>\n",
       "      <th>footprint</th>\n",
       "      <th>projectId</th>\n",
       "      <th>patch</th>\n",
       "    </tr>\n",
       "  </thead>\n",
       "  <tbody>\n",
       "    <tr>\n",
       "      <th>0</th>\n",
       "      <td>11970879316054508036</td>\n",
       "      <td>10378695580359589885</td>\n",
       "      <td>766</td>\n",
       "      <td>70381629079553</td>\n",
       "      <td>1.722391</td>\n",
       "      <td>-0.520165</td>\n",
       "      <td>0</td>\n",
       "      <td>0</td>\n",
       "      <td>NaN</td>\n",
       "      <td>NaN</td>\n",
       "      <td>...</td>\n",
       "      <td>0.000000</td>\n",
       "      <td>0.0</td>\n",
       "      <td>0.000000</td>\n",
       "      <td>0.0</td>\n",
       "      <td>0.000000</td>\n",
       "      <td>0.0</td>\n",
       "      <td>NaN</td>\n",
       "      <td>1</td>\n",
       "      <td>1</td>\n",
       "      <td>'8,12'</td>\n",
       "    </tr>\n",
       "    <tr>\n",
       "      <th>1</th>\n",
       "      <td>2533274791051780</td>\n",
       "      <td>13868985135874965504</td>\n",
       "      <td>640</td>\n",
       "      <td>70381629079554</td>\n",
       "      <td>1.721460</td>\n",
       "      <td>-0.513888</td>\n",
       "      <td>0</td>\n",
       "      <td>4</td>\n",
       "      <td>NaN</td>\n",
       "      <td>NaN</td>\n",
       "      <td>...</td>\n",
       "      <td>0.992812</td>\n",
       "      <td>0.0</td>\n",
       "      <td>1.066794</td>\n",
       "      <td>0.0</td>\n",
       "      <td>0.992824</td>\n",
       "      <td>0.0</td>\n",
       "      <td>NaN</td>\n",
       "      <td>2</td>\n",
       "      <td>1</td>\n",
       "      <td>'8,12'</td>\n",
       "    </tr>\n",
       "    <tr>\n",
       "      <th>2</th>\n",
       "      <td>11970879316012564996</td>\n",
       "      <td>10378695580359589885</td>\n",
       "      <td>766</td>\n",
       "      <td>70381629079555</td>\n",
       "      <td>1.720959</td>\n",
       "      <td>-0.520203</td>\n",
       "      <td>0</td>\n",
       "      <td>0</td>\n",
       "      <td>NaN</td>\n",
       "      <td>NaN</td>\n",
       "      <td>...</td>\n",
       "      <td>0.000000</td>\n",
       "      <td>0.0</td>\n",
       "      <td>0.000000</td>\n",
       "      <td>0.0</td>\n",
       "      <td>0.000000</td>\n",
       "      <td>0.0</td>\n",
       "      <td>NaN</td>\n",
       "      <td>3</td>\n",
       "      <td>1</td>\n",
       "      <td>'8,12'</td>\n",
       "    </tr>\n",
       "    <tr>\n",
       "      <th>3</th>\n",
       "      <td>2463768135275119108</td>\n",
       "      <td>9541026117278760941</td>\n",
       "      <td>640</td>\n",
       "      <td>70381629079556</td>\n",
       "      <td>1.720945</td>\n",
       "      <td>-0.519593</td>\n",
       "      <td>0</td>\n",
       "      <td>0</td>\n",
       "      <td>NaN</td>\n",
       "      <td>NaN</td>\n",
       "      <td>...</td>\n",
       "      <td>0.994504</td>\n",
       "      <td>0.0</td>\n",
       "      <td>1.070237</td>\n",
       "      <td>0.0</td>\n",
       "      <td>0.993761</td>\n",
       "      <td>0.0</td>\n",
       "      <td>NaN</td>\n",
       "      <td>4</td>\n",
       "      <td>1</td>\n",
       "      <td>'8,12'</td>\n",
       "    </tr>\n",
       "    <tr>\n",
       "      <th>4</th>\n",
       "      <td>11682355097525813764</td>\n",
       "      <td>9559040515788242941</td>\n",
       "      <td>640</td>\n",
       "      <td>70381629079557</td>\n",
       "      <td>1.720937</td>\n",
       "      <td>-0.519563</td>\n",
       "      <td>0</td>\n",
       "      <td>0</td>\n",
       "      <td>NaN</td>\n",
       "      <td>NaN</td>\n",
       "      <td>...</td>\n",
       "      <td>0.994491</td>\n",
       "      <td>0.0</td>\n",
       "      <td>1.070189</td>\n",
       "      <td>0.0</td>\n",
       "      <td>0.993735</td>\n",
       "      <td>0.0</td>\n",
       "      <td>NaN</td>\n",
       "      <td>5</td>\n",
       "      <td>1</td>\n",
       "      <td>'8,12'</td>\n",
       "    </tr>\n",
       "  </tbody>\n",
       "</table>\n",
       "<p>5 rows × 166 columns</p>\n",
       "</div>"
      ],
      "text/plain": [
       "                 FLAGS1                FLAGS2  FLAGS3              id  \\\n",
       "0  11970879316054508036  10378695580359589885     766  70381629079553   \n",
       "1      2533274791051780  13868985135874965504     640  70381629079554   \n",
       "2  11970879316012564996  10378695580359589885     766  70381629079555   \n",
       "3   2463768135275119108   9541026117278760941     640  70381629079556   \n",
       "4  11682355097525813764   9559040515788242941     640  70381629079557   \n",
       "\n",
       "   coord_ra  coord_dec  parent  deblend_nChild  deblend_psfCenter_x  \\\n",
       "0  1.722391  -0.520165       0               0                  NaN   \n",
       "1  1.721460  -0.513888       0               4                  NaN   \n",
       "2  1.720959  -0.520203       0               0                  NaN   \n",
       "3  1.720945  -0.519593       0               0                  NaN   \n",
       "4  1.720937  -0.519563       0               0                  NaN   \n",
       "\n",
       "   deblend_psfCenter_y   ...    modelfit_CModel_initial_apCorr  \\\n",
       "0                  NaN   ...                          0.000000   \n",
       "1                  NaN   ...                          0.992812   \n",
       "2                  NaN   ...                          0.000000   \n",
       "3                  NaN   ...                          0.994504   \n",
       "4                  NaN   ...                          0.994491   \n",
       "\n",
       "   modelfit_CModel_initial_apCorrSigma  base_GaussianFlux_apCorr  \\\n",
       "0                                  0.0                  0.000000   \n",
       "1                                  0.0                  1.066794   \n",
       "2                                  0.0                  0.000000   \n",
       "3                                  0.0                  1.070237   \n",
       "4                                  0.0                  1.070189   \n",
       "\n",
       "   base_GaussianFlux_apCorrSigma  modelfit_CModel_dev_apCorr  \\\n",
       "0                            0.0                    0.000000   \n",
       "1                            0.0                    0.992824   \n",
       "2                            0.0                    0.000000   \n",
       "3                            0.0                    0.993761   \n",
       "4                            0.0                    0.993735   \n",
       "\n",
       "   modelfit_CModel_dev_apCorrSigma  base_ClassificationExtendedness_value  \\\n",
       "0                              0.0                                    NaN   \n",
       "1                              0.0                                    NaN   \n",
       "2                              0.0                                    NaN   \n",
       "3                              0.0                                    NaN   \n",
       "4                              0.0                                    NaN   \n",
       "\n",
       "   footprint  projectId   patch  \n",
       "0          1          1  '8,12'  \n",
       "1          2          1  '8,12'  \n",
       "2          3          1  '8,12'  \n",
       "3          4          1  '8,12'  \n",
       "4          5          1  '8,12'  \n",
       "\n",
       "[5 rows x 166 columns]"
      ]
     },
     "execution_count": 8,
     "metadata": {},
     "output_type": "execute_result"
    }
   ],
   "source": [
    "first_100.head(5)"
   ]
  },
  {
   "cell_type": "markdown",
   "metadata": {},
   "source": [
    "Lets look at the size of the resulting data frames."
   ]
  },
  {
   "cell_type": "code",
   "execution_count": 9,
   "metadata": {
    "collapsed": false
   },
   "outputs": [
    {
     "name": "stdout",
     "output_type": "stream",
     "text": [
      "<class 'pandas.core.frame.DataFrame'>\n",
      "Int64Index: 79076 entries, 260580 to 339655\n",
      "Data columns (total 4 columns):\n",
      "patch                     79076 non-null object\n",
      "footprint                 79076 non-null int64\n",
      "base_PsfFlux_flux         79076 non-null float64\n",
      "base_PsfFlux_fluxSigma    79076 non-null float64\n",
      "dtypes: float64(2), int64(1), object(1)\n",
      "memory usage: 3.0+ MB\n"
     ]
    }
   ],
   "source": [
    "selected_patch.info()"
   ]
  },
  {
   "cell_type": "code",
   "execution_count": 10,
   "metadata": {
    "collapsed": false
   },
   "outputs": [
    {
     "name": "stdout",
     "output_type": "stream",
     "text": [
      "<class 'pandas.core.frame.DataFrame'>\n",
      "Int64Index: 12311932 entries, 0 to 12311931\n",
      "Data columns (total 4 columns):\n",
      "patch                     object\n",
      "footprint                 int64\n",
      "base_PsfFlux_flux         float64\n",
      "base_PsfFlux_fluxSigma    float64\n",
      "dtypes: float64(2), int64(1), object(1)\n",
      "memory usage: 469.7+ MB\n"
     ]
    }
   ],
   "source": [
    "selected_columns.info()"
   ]
  },
  {
   "cell_type": "code",
   "execution_count": 11,
   "metadata": {
    "collapsed": false
   },
   "outputs": [
    {
     "name": "stdout",
     "output_type": "stream",
     "text": [
      "<class 'pandas.core.frame.DataFrame'>\n",
      "Int64Index: 100 entries, 0 to 99\n",
      "Columns: 166 entries, FLAGS1 to patch\n",
      "dtypes: float64(153), int64(10), object(1), uint64(2)\n",
      "memory usage: 130.5+ KB\n"
     ]
    }
   ],
   "source": [
    "first_100.info()"
   ]
  }
 ],
 "metadata": {
  "anaconda-cloud": {},
  "kernelspec": {
   "display_name": "Python 3.5",
   "language": "python",
   "name": "python3.5"
  },
  "language_info": {
   "codemirror_mode": {
    "name": "ipython",
    "version": 3
   },
   "file_extension": ".py",
   "mimetype": "text/x-python",
   "name": "python",
   "nbconvert_exporter": "python",
   "pygments_lexer": "ipython3",
   "version": "3.5.2"
  }
 },
 "nbformat": 4,
 "nbformat_minor": 2
}
