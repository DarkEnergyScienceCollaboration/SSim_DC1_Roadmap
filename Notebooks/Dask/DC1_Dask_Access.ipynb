{
 "cells": [
  {
   "cell_type": "markdown",
   "metadata": {},
   "source": [
    "# DC1 Data Access with Dask\n",
    "\n",
    "This notebook serves as an introduction to data access with [Dask](https://dask.pydata.org/en/latest/), a flexible parallel computing library for analytic computing. In order to run this notebook, follow the instructions for setting up [Jupyter-dev](https://github.com/LSSTDESC/Monitor/blob/master/doc/jupyter-dev.md). We provide a modern (as of 2017-12-04) Python3 version of [`lsst_kernel.sh`](https://github.com/LSSTDESC/SSim_DC1/blob/master/scripts/lsst-kernel.sh).\n",
    "\n",
    "In addition, to the generic LSST stack setup, you may need to install several additional python packages. This can be accomplished with `pip` either from a separate shell or inside this notebook by prefixing the commands with `!`:\n",
    "```\n",
    "pip install --user dask\n",
    "pip install --user toolz\n",
    "pip install --user cloudpickle\n",
    "pip install --user tables\n",
    "```"
   ]
  },
  {
   "cell_type": "markdown",
   "metadata": {},
   "source": [
    "Load the required modules, including `dask`."
   ]
  },
  {
   "cell_type": "code",
   "execution_count": 1,
   "metadata": {},
   "outputs": [
    {
     "name": "stdout",
     "output_type": "stream",
     "text": [
      "Populating the interactive namespace from numpy and matplotlib\n",
      "1.13.1 0.20.3\n"
     ]
    }
   ],
   "source": [
    "%pylab inline\n",
    "\n",
    "import os\n",
    "import numpy as np\n",
    "import pandas as pd\n",
    "import dask.dataframe as dd\n",
    "\n",
    "print(np.__version__, pd.__version__)"
   ]
  },
  {
   "cell_type": "markdown",
   "metadata": {},
   "source": [
    "Read the 15 Gbyte dataframe located in a HDF5 data file into a dask dataframe.  This will allow us to do out of memory operations."
   ]
  },
  {
   "cell_type": "code",
   "execution_count": 2,
   "metadata": {},
   "outputs": [],
   "source": [
    "file_path = '/global/projecta/projectdirs/lsst/groups/SSim/DC1'\n",
    "df = dd.read_hdf(os.path.join(file_path,'coadd-DC1-imsim-dithered.hdf'), key='*')"
   ]
  },
  {
   "cell_type": "code",
   "execution_count": 3,
   "metadata": {},
   "outputs": [
    {
     "name": "stdout",
     "output_type": "stream",
     "text": [
      "<class 'dask.dataframe.core.DataFrame'>\n",
      "Columns: 298 entries, id to psfMag\n",
      "dtypes: bool(136), float32(8), float64(147), int32(5), int64(2)"
     ]
    }
   ],
   "source": [
    "df.info()"
   ]
  },
  {
   "cell_type": "markdown",
   "metadata": {},
   "source": [
    "Now do a dask operation and put the results (which will fit in memory) into a normal pandas data frame.  This selects a patch and only some columns for the result."
   ]
  },
  {
   "cell_type": "code",
   "execution_count": 4,
   "metadata": {},
   "outputs": [],
   "source": [
    "# The columns we actually want to use\n",
    "requested_columns = ['base_PsfFlux_flux','base_PsfFlux_fluxSigma']"
   ]
  },
  {
   "cell_type": "markdown",
   "metadata": {},
   "source": [
    "This is all of the entries, no selection and some of the columns."
   ]
  },
  {
   "cell_type": "code",
   "execution_count": 5,
   "metadata": {},
   "outputs": [
    {
     "name": "stdout",
     "output_type": "stream",
     "text": [
      "CPU times: user 27 s, sys: 13.5 s, total: 40.5 s\n",
      "Wall time: 1min 2s\n"
     ]
    }
   ],
   "source": [
    "%%time\n",
    "selected_columns = df[requested_columns].compute()\n",
    "selected_columns.shape"
   ]
  },
  {
   "cell_type": "markdown",
   "metadata": {},
   "source": [
    "This applies a selection and only returns the requested columns (in this case, objects that are detected with SN >= 5)"
   ]
  },
  {
   "cell_type": "code",
   "execution_count": 6,
   "metadata": {},
   "outputs": [
    {
     "name": "stdout",
     "output_type": "stream",
     "text": [
      "CPU times: user 32.7 s, sys: 15.8 s, total: 48.5 s\n",
      "Wall time: 1min 4s\n"
     ]
    }
   ],
   "source": [
    "%%time\n",
    "selected_flux = df.query(\"base_PsfFlux_flux / base_PsfFlux_fluxSigma >= 5\")[requested_columns].compute()\n",
    "selected_flux.shape"
   ]
  },
  {
   "cell_type": "markdown",
   "metadata": {},
   "source": [
    "This selects the first 100 entries with all of the columns."
   ]
  },
  {
   "cell_type": "code",
   "execution_count": 7,
   "metadata": {},
   "outputs": [
    {
     "name": "stdout",
     "output_type": "stream",
     "text": [
      "CPU times: user 209 ms, sys: 78.8 ms, total: 288 ms\n",
      "Wall time: 402 ms\n"
     ]
    }
   ],
   "source": [
    "%%time\n",
    "first_100 = df.head(100)\n",
    "first_100.shape"
   ]
  },
  {
   "cell_type": "code",
   "execution_count": 8,
   "metadata": {},
   "outputs": [
    {
     "data": {
      "text/html": [
       "<div>\n",
       "<style>\n",
       "    .dataframe thead tr:only-child th {\n",
       "        text-align: right;\n",
       "    }\n",
       "\n",
       "    .dataframe thead th {\n",
       "        text-align: left;\n",
       "    }\n",
       "\n",
       "    .dataframe tbody tr th {\n",
       "        vertical-align: top;\n",
       "    }\n",
       "</style>\n",
       "<table border=\"1\" class=\"dataframe\">\n",
       "  <thead>\n",
       "    <tr style=\"text-align: right;\">\n",
       "      <th></th>\n",
       "      <th>id</th>\n",
       "      <th>coord_ra</th>\n",
       "      <th>coord_dec</th>\n",
       "      <th>parent</th>\n",
       "      <th>flags_negative</th>\n",
       "      <th>merge_footprint_i</th>\n",
       "      <th>merge_footprint_r</th>\n",
       "      <th>merge_footprint_z</th>\n",
       "      <th>merge_footprint_g</th>\n",
       "      <th>merge_footprint_y</th>\n",
       "      <th>...</th>\n",
       "      <th>base_GaussianFlux_apCorr</th>\n",
       "      <th>base_GaussianFlux_apCorrSigma</th>\n",
       "      <th>base_GaussianFlux_flag_apCorr</th>\n",
       "      <th>modelfit_CModel_dev_apCorr</th>\n",
       "      <th>modelfit_CModel_dev_apCorrSigma</th>\n",
       "      <th>modelfit_CModel_dev_flag_apCorr</th>\n",
       "      <th>base_ClassificationExtendedness_value</th>\n",
       "      <th>base_ClassificationExtendedness_flag</th>\n",
       "      <th>cmodelMag</th>\n",
       "      <th>psfMag</th>\n",
       "    </tr>\n",
       "  </thead>\n",
       "  <tbody>\n",
       "    <tr>\n",
       "      <th>0</th>\n",
       "      <td>87971667640321</td>\n",
       "      <td>1.682373</td>\n",
       "      <td>-0.535450</td>\n",
       "      <td>0</td>\n",
       "      <td>False</td>\n",
       "      <td>False</td>\n",
       "      <td>True</td>\n",
       "      <td>False</td>\n",
       "      <td>False</td>\n",
       "      <td>False</td>\n",
       "      <td>...</td>\n",
       "      <td>1.045746</td>\n",
       "      <td>0.0</td>\n",
       "      <td>False</td>\n",
       "      <td>0.985232</td>\n",
       "      <td>0.0</td>\n",
       "      <td>False</td>\n",
       "      <td>NaN</td>\n",
       "      <td>True</td>\n",
       "      <td>NaN</td>\n",
       "      <td>24.071767</td>\n",
       "    </tr>\n",
       "    <tr>\n",
       "      <th>1</th>\n",
       "      <td>87971667640322</td>\n",
       "      <td>1.682283</td>\n",
       "      <td>-0.535452</td>\n",
       "      <td>0</td>\n",
       "      <td>False</td>\n",
       "      <td>False</td>\n",
       "      <td>True</td>\n",
       "      <td>False</td>\n",
       "      <td>False</td>\n",
       "      <td>False</td>\n",
       "      <td>...</td>\n",
       "      <td>1.045243</td>\n",
       "      <td>0.0</td>\n",
       "      <td>False</td>\n",
       "      <td>0.984980</td>\n",
       "      <td>0.0</td>\n",
       "      <td>False</td>\n",
       "      <td>NaN</td>\n",
       "      <td>True</td>\n",
       "      <td>NaN</td>\n",
       "      <td>26.157276</td>\n",
       "    </tr>\n",
       "    <tr>\n",
       "      <th>2</th>\n",
       "      <td>87971667640323</td>\n",
       "      <td>1.682122</td>\n",
       "      <td>-0.535456</td>\n",
       "      <td>0</td>\n",
       "      <td>False</td>\n",
       "      <td>False</td>\n",
       "      <td>True</td>\n",
       "      <td>False</td>\n",
       "      <td>False</td>\n",
       "      <td>False</td>\n",
       "      <td>...</td>\n",
       "      <td>1.045074</td>\n",
       "      <td>0.0</td>\n",
       "      <td>False</td>\n",
       "      <td>0.984928</td>\n",
       "      <td>0.0</td>\n",
       "      <td>False</td>\n",
       "      <td>NaN</td>\n",
       "      <td>True</td>\n",
       "      <td>NaN</td>\n",
       "      <td>23.902366</td>\n",
       "    </tr>\n",
       "    <tr>\n",
       "      <th>3</th>\n",
       "      <td>87971667640324</td>\n",
       "      <td>1.681998</td>\n",
       "      <td>-0.535457</td>\n",
       "      <td>0</td>\n",
       "      <td>False</td>\n",
       "      <td>False</td>\n",
       "      <td>True</td>\n",
       "      <td>False</td>\n",
       "      <td>False</td>\n",
       "      <td>False</td>\n",
       "      <td>...</td>\n",
       "      <td>1.045593</td>\n",
       "      <td>0.0</td>\n",
       "      <td>False</td>\n",
       "      <td>0.985221</td>\n",
       "      <td>0.0</td>\n",
       "      <td>False</td>\n",
       "      <td>NaN</td>\n",
       "      <td>True</td>\n",
       "      <td>NaN</td>\n",
       "      <td>26.263831</td>\n",
       "    </tr>\n",
       "    <tr>\n",
       "      <th>4</th>\n",
       "      <td>87971667640325</td>\n",
       "      <td>1.681962</td>\n",
       "      <td>-0.535433</td>\n",
       "      <td>0</td>\n",
       "      <td>False</td>\n",
       "      <td>False</td>\n",
       "      <td>True</td>\n",
       "      <td>False</td>\n",
       "      <td>False</td>\n",
       "      <td>False</td>\n",
       "      <td>...</td>\n",
       "      <td>1.045501</td>\n",
       "      <td>0.0</td>\n",
       "      <td>False</td>\n",
       "      <td>0.985194</td>\n",
       "      <td>0.0</td>\n",
       "      <td>False</td>\n",
       "      <td>1.0</td>\n",
       "      <td>False</td>\n",
       "      <td>22.666801</td>\n",
       "      <td>23.098674</td>\n",
       "    </tr>\n",
       "  </tbody>\n",
       "</table>\n",
       "<p>5 rows × 298 columns</p>\n",
       "</div>"
      ],
      "text/plain": [
       "               id  coord_ra  coord_dec  parent  flags_negative  \\\n",
       "0  87971667640321  1.682373  -0.535450       0           False   \n",
       "1  87971667640322  1.682283  -0.535452       0           False   \n",
       "2  87971667640323  1.682122  -0.535456       0           False   \n",
       "3  87971667640324  1.681998  -0.535457       0           False   \n",
       "4  87971667640325  1.681962  -0.535433       0           False   \n",
       "\n",
       "   merge_footprint_i  merge_footprint_r  merge_footprint_z  merge_footprint_g  \\\n",
       "0              False               True              False              False   \n",
       "1              False               True              False              False   \n",
       "2              False               True              False              False   \n",
       "3              False               True              False              False   \n",
       "4              False               True              False              False   \n",
       "\n",
       "   merge_footprint_y    ...      base_GaussianFlux_apCorr  \\\n",
       "0              False    ...                      1.045746   \n",
       "1              False    ...                      1.045243   \n",
       "2              False    ...                      1.045074   \n",
       "3              False    ...                      1.045593   \n",
       "4              False    ...                      1.045501   \n",
       "\n",
       "   base_GaussianFlux_apCorrSigma  base_GaussianFlux_flag_apCorr  \\\n",
       "0                            0.0                          False   \n",
       "1                            0.0                          False   \n",
       "2                            0.0                          False   \n",
       "3                            0.0                          False   \n",
       "4                            0.0                          False   \n",
       "\n",
       "   modelfit_CModel_dev_apCorr  modelfit_CModel_dev_apCorrSigma  \\\n",
       "0                    0.985232                              0.0   \n",
       "1                    0.984980                              0.0   \n",
       "2                    0.984928                              0.0   \n",
       "3                    0.985221                              0.0   \n",
       "4                    0.985194                              0.0   \n",
       "\n",
       "   modelfit_CModel_dev_flag_apCorr  base_ClassificationExtendedness_value  \\\n",
       "0                            False                                    NaN   \n",
       "1                            False                                    NaN   \n",
       "2                            False                                    NaN   \n",
       "3                            False                                    NaN   \n",
       "4                            False                                    1.0   \n",
       "\n",
       "   base_ClassificationExtendedness_flag  cmodelMag     psfMag  \n",
       "0                                  True        NaN  24.071767  \n",
       "1                                  True        NaN  26.157276  \n",
       "2                                  True        NaN  23.902366  \n",
       "3                                  True        NaN  26.263831  \n",
       "4                                 False  22.666801  23.098674  \n",
       "\n",
       "[5 rows x 298 columns]"
      ]
     },
     "execution_count": 8,
     "metadata": {},
     "output_type": "execute_result"
    }
   ],
   "source": [
    "first_100.head(5)"
   ]
  },
  {
   "cell_type": "markdown",
   "metadata": {},
   "source": [
    "Lets look at the size of the resulting data frames."
   ]
  },
  {
   "cell_type": "code",
   "execution_count": 9,
   "metadata": {},
   "outputs": [
    {
     "name": "stdout",
     "output_type": "stream",
     "text": [
      "<class 'pandas.core.frame.DataFrame'>\n",
      "Int64Index: 10650992 entries, 0 to 76110\n",
      "Data columns (total 2 columns):\n",
      "base_PsfFlux_flux         float64\n",
      "base_PsfFlux_fluxSigma    float64\n",
      "dtypes: float64(2)\n",
      "memory usage: 243.8 MB\n"
     ]
    }
   ],
   "source": [
    "selected_columns.info()"
   ]
  },
  {
   "cell_type": "code",
   "execution_count": 10,
   "metadata": {},
   "outputs": [
    {
     "name": "stdout",
     "output_type": "stream",
     "text": [
      "<class 'pandas.core.frame.DataFrame'>\n",
      "Int64Index: 10502668 entries, 0 to 76110\n",
      "Data columns (total 2 columns):\n",
      "base_PsfFlux_flux         float64\n",
      "base_PsfFlux_fluxSigma    float64\n",
      "dtypes: float64(2)\n",
      "memory usage: 240.4 MB\n"
     ]
    }
   ],
   "source": [
    "selected_flux.info()"
   ]
  },
  {
   "cell_type": "code",
   "execution_count": 11,
   "metadata": {},
   "outputs": [
    {
     "name": "stdout",
     "output_type": "stream",
     "text": [
      "<class 'pandas.core.frame.DataFrame'>\n",
      "Int64Index: 100 entries, 0 to 99\n",
      "Columns: 298 entries, id to psfMag\n",
      "dtypes: bool(136), float32(8), float64(147), int32(5), int64(2)\n",
      "memory usage: 135.5 KB\n"
     ]
    }
   ],
   "source": [
    "first_100.info()"
   ]
  }
 ],
 "metadata": {
  "anaconda-cloud": {},
  "kernelspec": {
   "display_name": "lsst",
   "language": "python",
   "name": "lsst"
  },
  "language_info": {
   "codemirror_mode": {
    "name": "ipython",
    "version": 3
   },
   "file_extension": ".py",
   "mimetype": "text/x-python",
   "name": "python",
   "nbconvert_exporter": "python",
   "pygments_lexer": "ipython3",
   "version": "3.6.2"
  }
 },
 "nbformat": 4,
 "nbformat_minor": 2
}
