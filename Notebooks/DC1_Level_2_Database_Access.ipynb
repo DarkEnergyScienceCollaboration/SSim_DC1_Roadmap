{
 "cells": [
  {
   "cell_type": "markdown",
   "metadata": {},
   "source": [
    "# DC1 Level 2 Database Access\n",
    "\n",
    "The DC1 Level 2 object catalogs (comprising the deepCoadd results tables) have been loaded into a MySQL database at NERSC.  This notebook shows how to connect to the database and how to access the data.\n",
    "\n",
    "The Level 2 pipeline output will be available at NERSC for three different DC1 simulations:\n",
    "\n",
    "| Simulation | Disk location |\n",
    "|------------|---------------|\n",
    "| imSim undithered | `/global/cscratch1/sd/descdm/DC1/full_focalplane_undithered` | \n",
    "| imSim dithered   | `/global/cscratch1/sd/descdm/DC1/DC1-imsim-dithered` |\n",
    "| phoSim dithered  | `/global/cscratch1/sd/descdm/DC1/DC1-phoSim-3a` (pending) |\n",
    "\n",
    "The results from the two imSim runs have been ingested into the `DESC_DC1_Level_2` database\n"
   ]
  },
  {
   "cell_type": "markdown",
   "metadata": {},
   "source": [
    "## Connecting via the MySQL command line\n",
    "\n",
    "The most direct way to connect is to use the MySQL command line, and the easiest way set up the access credentials is with a MySQL option file.  For running at NERSC from a cori machine, the file would look like\n",
    "```\n",
    "$ cat ~/.my.cnf\n",
    "[client]\n",
    "host=nerscdb04.nersc.gov\n",
    "database=DESC_DC1_Level_2\n",
    "user=DESC_DC1_Level_2_user\n",
    "password=<read_only_password>\n",
    "```\n",
    "Alternatively, one could ssh-tunnel from a remote machine to a cori with\n",
    "```\n",
    "ssh -L 3307:nerscdb04.nersc.gov:3306 <userid>@cori.nersc.gov\n",
    "```\n",
    "and the `~/.my.cnf` on the remote machine would contain\n",
    "```\n",
    "[client]\n",
    "host=\"127.0.0.1\"\n",
    "port=3307\n",
    "database=DESC_DC1_Level_2_user\n",
    "password=<read_only_password>\n",
    "```\n",
    "In either case, one can just run `mysql` and get the command line prompt:\n",
    "```\n",
    "[cori10] mysql\n",
    "MySQL [DESC_DC1_Level_2]> show tables;\n",
    "+----------------------------+\n",
    "| Tables_in_DESC_DC1_Level_2 |\n",
    "+----------------------------+\n",
    "| CcdVisit                   |\n",
    "| Coadd_Object               |\n",
    "| Project                    |\n",
    "+----------------------------+\n",
    "3 rows in set (0.00 sec)\n",
    "\n",
    "MySQL [DESC_DC1_Level_2]> select * from Project;\n",
    "+-----------+----------------------+\n",
    "| projectId | projectName          |\n",
    "+-----------+----------------------+\n",
    "|         0 | DC1 imsim undithered |\n",
    "|         1 | DC1 imsim dithered   |\n",
    "+-----------+----------------------+\n",
    "2 rows in set (0.01 sec)\n",
    "\n",
    "```"
   ]
  },
  {
   "cell_type": "markdown",
   "metadata": {},
   "source": [
    "## Connecting from Python via the pserv package\n",
    "\n",
    "There are several options for connecting to a MySQL database from python.  The DESC [pserv](https://github.com/LSSTDESC/pserv) package uses `sqlalchemy` on the backend and the `lsst.daf.persistence.DbAuth` package from the LSST Stack as the mechanism for providing database credentials.  The `lsst_sims` code uses the same mechanism for connecting to the CatSim database hosted at UW.\n",
    "\n",
    "To use `pserv` to connect, one needs a `~/.lsst/db-auth.paf` file:\n",
    "```\n",
    "$ cat ~/.lsst/db-auth.paf\n",
    "database: {\n",
    "    authInfo: {\n",
    "        host: ki-sr01.slac.stanford.edu\n",
    "        port: 3307\n",
    "        user: jchiang\n",
    "        password: <password>\n",
    "    }\n",
    "    authInfo: {\n",
    "        host: \"127.0.0.1\"\n",
    "        port: 33071\n",
    "        user: jchiang\n",
    "        password: <password>\n",
    "    }\n",
    "    authInfo: {\n",
    "#        host: nerscdb04.nersc.gov\n",
    "        host: \"127.0.0.1\"\n",
    "        port: 3307\n",
    "        user: DESC_DC1_Level_2_user\n",
    "        password: <password>\n",
    "    }\n",
    "    authInfo: {\n",
    "#        host: scidb1.nersc.gov\n",
    "        host: \"127.0.0.1\"\n",
    "        port: 3308\n",
    "        user: desc_user\n",
    "        password: <password>\n",
    "    }\n",
    "}\n",
    "```\n",
    "One can have different sets of credentials in this file, specified by host and port, both for direct and ssh-tunnel connections.  More info on using `DbAuth`, especially for connecting to the UW CatSim db, is available [here](https://confluence.lsstcorp.org/display/SIM/Accessing+the+UW+CATSIM+Database).  Instructions on installing `pserv` are available [here](https://github.com/LSSTDESC/pserv/blob/master/doc/Usage.md).\n",
    "\n",
    "The examples below show how to use `pserv`."
   ]
  },
  {
   "cell_type": "code",
   "execution_count": 1,
   "metadata": {
    "collapsed": true
   },
   "outputs": [],
   "source": [
    "import matplotlib.pyplot as plt\n",
    "import desc.pserv\n",
    "%matplotlib inline"
   ]
  },
  {
   "cell_type": "code",
   "execution_count": 2,
   "metadata": {
    "collapsed": false
   },
   "outputs": [],
   "source": [
    "conn = desc.pserv.DbConnection(host='127.0.0.1', port=3307, database='DESC_DC1_Level_2')"
   ]
  },
  {
   "cell_type": "code",
   "execution_count": 3,
   "metadata": {
    "collapsed": false
   },
   "outputs": [
    {
     "name": "stdout",
     "output_type": "stream",
     "text": [
      "807\n",
      "    ccdVisitId  visitId ccdName raftName filterName nExposures    ra  decl  \\\n",
      "0  22110040337    40337     1,1      2,2          r       None  None  None   \n",
      "1  22110040338    40338     1,1      2,2          r       None  None  None   \n",
      "2  22110040367    40367     1,1      2,2          r       None  None  None   \n",
      "3  22110040368    40368     1,1      2,2          r       None  None  None   \n",
      "4  22110193157   193157     1,1      2,2          r       None  None  None   \n",
      "\n",
      "  zenithDistance  llcx    ...    ccdTemp  binX  binY   WCS     zeroPoint  \\\n",
      "0           None  None    ...       None  None  None  None  5.312820e+12   \n",
      "1           None  None    ...       None  None  None  None  5.248950e+12   \n",
      "2           None  None    ...       None  None  None  None  5.190330e+12   \n",
      "3           None  None    ...       None  None  None  None  5.198230e+12   \n",
      "4           None  None    ...       None  None  None  None  5.145190e+12   \n",
      "\n",
      "     seeing     skyBg skyNoise flags projectId  \n",
      "0  0.712216   410.968  20.3645  None         0  \n",
      "1  0.887348   404.700  20.2461  None         0  \n",
      "2  1.399250   404.003  20.3072  None         0  \n",
      "3  1.175880   398.788  20.1830  None         0  \n",
      "4  1.623240  1521.500  39.0727  None         0  \n",
      "\n",
      "[5 rows x 33 columns]\n"
     ]
    }
   ],
   "source": [
    "# The results from any query can be retrieved as a pandas DataFrame.\n",
    "# This query uses constraints on raftName and ccdName to pick out the central sensor in order\n",
    "# to get unique info for each visit.\n",
    "query = \"select * from CcdVisit where raftName='2,2' and ccdName='1,1' and projectId=0\"\n",
    "ccdVisit = conn.get_pandas_data_frame(query)\n",
    "print len(ccdVisit)\n",
    "print ccdVisit[:5]"
   ]
  },
  {
   "cell_type": "code",
   "execution_count": 4,
   "metadata": {
    "collapsed": false
   },
   "outputs": [
    {
     "data": {
      "text/plain": [
       "(0.53849199999999997, 2.9910899999999998)"
      ]
     },
     "execution_count": 4,
     "metadata": {},
     "output_type": "execute_result"
    }
   ],
   "source": [
    "min(ccdVisit['seeing'].values),max(ccdVisit['seeing'].values)"
   ]
  },
  {
   "cell_type": "code",
   "execution_count": 5,
   "metadata": {
    "collapsed": false
   },
   "outputs": [
    {
     "name": "stderr",
     "output_type": "stream",
     "text": [
      "/u1/jchiang/miniconda/lib/python2.7/site-packages/numpy/lib/function_base.py:583: RuntimeWarning: invalid value encountered in greater_equal\n",
      "  keep = (tmp_a >= mn)\n",
      "/u1/jchiang/miniconda/lib/python2.7/site-packages/numpy/lib/function_base.py:584: RuntimeWarning: invalid value encountered in less_equal\n",
      "  keep &= (tmp_a <= mx)\n"
     ]
    },
    {
     "data": {
      "text/plain": [
       "<matplotlib.text.Text at 0x7fd44a001b90>"
      ]
     },
     "execution_count": 5,
     "metadata": {},
     "output_type": "execute_result"
    },
    {
     "data": {
      "image/png": "[encoded data removed]",
      "text/plain": [
       "<matplotlib.figure.Figure at 0x7fd44aaea450>"
      ]
     },
     "metadata": {},
     "output_type": "display_data"
    }
   ],
   "source": [
    "result = plt.hist(ccdVisit['seeing'].values, bins=50, histtype='step', range=(0.3, 1.5))\n",
    "plt.xlabel('seeing (arcsec)')\n",
    "plt.ylabel('# per bin')"
   ]
  },
  {
   "cell_type": "code",
   "execution_count": 6,
   "metadata": {
    "collapsed": false
   },
   "outputs": [],
   "source": [
    "query = '''select id, coord_ra, coord_dec, base_SdssCentroid_x, base_SdssCentroid_y, modelfit_CModel_flux,\n",
    "           modelfit_CModel_fluxSigma, base_PsfFlux_flux, base_PsfFlux_fluxSigma,\n",
    "           base_ClassificationExtendedness_value\n",
    "           from Coadd_Object where deblend_nChild=0 \n",
    "           and base_ClassificationExtendedness_value is not null and projectId=0 limit 10000'''\n",
    "coadd_data = conn.get_pandas_data_frame(query)"
   ]
  },
  {
   "cell_type": "code",
   "execution_count": 7,
   "metadata": {
    "collapsed": false
   },
   "outputs": [
    {
     "name": "stdout",
     "output_type": "stream",
     "text": [
      "               id  coord_ra  coord_dec  base_SdssCentroid_x  \\\n",
      "0  26393647775745  1.714243  -0.531958         24077.911373   \n",
      "1  26393647775750  1.714277  -0.531766         24055.880380   \n",
      "2  26393647775756  1.714251  -0.531673         24067.897622   \n",
      "3  26393647775758  1.714602  -0.531537         23877.530235   \n",
      "4  26394721517570  1.714602  -0.531537         23877.530228   \n",
      "5  26394721517574  1.714379  -0.531397         23993.848682   \n",
      "6  26394721517576  1.714490  -0.531328         23933.156316   \n",
      "7  26394721517578  1.714266  -0.531251         24051.309809   \n",
      "8  26394721517579  1.714302  -0.531234         24031.976644   \n",
      "9  26394721517580  1.714494  -0.531225         23928.877520   \n",
      "\n",
      "   base_SdssCentroid_y  modelfit_CModel_flux  modelfit_CModel_fluxSigma  \\\n",
      "0         35775.338701             21.024291                   3.168058   \n",
      "1         35893.821953             18.504202                   2.535566   \n",
      "2         35951.523018             15.378431                   1.992626   \n",
      "3         36029.647404            725.344256                  16.008552   \n",
      "4         36029.647386            701.675273                  15.989563   \n",
      "5         36120.378863            326.653283                   6.406310   \n",
      "6         36161.425245             86.368754                   7.254160   \n",
      "7         36213.063668             37.432882                   5.757538   \n",
      "8         36222.631544            147.929988                   7.848458   \n",
      "9         36225.042953            640.485600                   7.131759   \n",
      "\n",
      "   base_PsfFlux_flux  base_PsfFlux_fluxSigma  \\\n",
      "0          20.817864                3.159491   \n",
      "1          13.055437                1.809436   \n",
      "2          14.086253                1.811827   \n",
      "3         377.331865                9.067486   \n",
      "4         376.743863                9.336228   \n",
      "5         325.965708                6.343157   \n",
      "6          66.972131                5.744755   \n",
      "7          38.822317                5.715071   \n",
      "8         105.040967                5.822814   \n",
      "9         634.533091                7.007720   \n",
      "\n",
      "   base_ClassificationExtendedness_value  \n",
      "0                                    0.0  \n",
      "1                                    1.0  \n",
      "2                                    1.0  \n",
      "3                                    1.0  \n",
      "4                                    1.0  \n",
      "5                                    0.0  \n",
      "6                                    1.0  \n",
      "7                                    0.0  \n",
      "8                                    1.0  \n",
      "9                                    0.0  \n"
     ]
    }
   ],
   "source": [
    "print coadd_data[:10]"
   ]
  },
  {
   "cell_type": "code",
   "execution_count": 8,
   "metadata": {
    "collapsed": false
   },
   "outputs": [
    {
     "data": {
      "text/plain": [
       "<matplotlib.text.Text at 0x7fd4464eb450>"
      ]
     },
     "execution_count": 8,
     "metadata": {},
     "output_type": "execute_result"
    },
    {
     "data": {
      "image/png": "[encoded data removed]",
      "text/plain": [
       "<matplotlib.figure.Figure at 0x7fd44aaea610>"
      ]
     },
     "metadata": {},
     "output_type": "display_data"
    }
   ],
   "source": [
    "figure = plt.figure()\n",
    "stars = coadd_data.query(\"base_ClassificationExtendedness_value==0.0\")\n",
    "galaxies = coadd_data.query(\"base_ClassificationExtendedness_value==1.0\")\n",
    "\n",
    "plt.errorbar(galaxies['base_PsfFlux_flux'].values, galaxies['modelfit_CModel_flux'].values,\n",
    "            xerr=galaxies['base_PsfFlux_fluxSigma'].values, yerr=galaxies['modelfit_CModel_fluxSigma'].values,\n",
    "            fmt='.', label='galaxies')\n",
    "\n",
    "plt.errorbar(stars['base_PsfFlux_flux'].values, stars['modelfit_CModel_flux'].values,\n",
    "            xerr=stars['base_PsfFlux_fluxSigma'].values, yerr=stars['modelfit_CModel_fluxSigma'].values,\n",
    "            fmt='.', label='stars')\n",
    "\n",
    "plt.xscale('log')\n",
    "plt.yscale('log')\n",
    "plt.legend(loc=0)\n",
    "plt.xlabel('base_PsfFlux_flux')\n",
    "plt.ylabel('modelfit_CModel_flux')"
   ]
  },
  {
   "cell_type": "markdown",
   "metadata": {},
   "source": [
    "### The Coadd_Object table schema\n",
    "\n",
    "This schema for the Coadd_Object table is derived directly from the columns in the Level 2 coadd results merged catalogs.\n",
    "\n",
    "```\n",
    "MySQL [DESC_DC1_Level_2]> describe Coadd_Object;\n",
    "+-------------------------------------------+---------------------+------+-----+---------+-------+\n",
    "| Field                                     | Type                | Null | Key | Default | Extra |\n",
    "+-------------------------------------------+---------------------+------+-----+---------+-------+\n",
    "| FLAGS1                                    | bigint(20) unsigned | YES  |     | NULL    |       |\n",
    "| FLAGS2                                    | bigint(20) unsigned | YES  |     | NULL    |       |\n",
    "| FLAGS3                                    | bigint(20) unsigned | YES  |     | NULL    |       |\n",
    "| id                                        | bigint(20)          | NO   | PRI | NULL    |       |\n",
    "| coord_ra                                  | double              | YES  |     | NULL    |       |\n",
    "| coord_dec                                 | double              | YES  |     | NULL    |       |\n",
    "| parent                                    | bigint(20)          | YES  |     | NULL    |       |\n",
    "| deblend_nChild                            | int(11)             | YES  |     | NULL    |       |\n",
    "| deblend_psfCenter_x                       | double              | YES  |     | NULL    |       |\n",
    "| deblend_psfCenter_y                       | double              | YES  |     | NULL    |       |\n",
    "| deblend_psfFlux                           | double              | YES  |     | NULL    |       |\n",
    "| base_GaussianCentroid_x                   | double              | YES  |     | NULL    |       |\n",
    "| base_GaussianCentroid_y                   | double              | YES  |     | NULL    |       |\n",
    "| base_NaiveCentroid_x                      | double              | YES  |     | NULL    |       |\n",
    "| base_NaiveCentroid_y                      | double              | YES  |     | NULL    |       |\n",
    "| base_SdssCentroid_x                       | double              | YES  |     | NULL    |       |\n",
    "| base_SdssCentroid_y                       | double              | YES  |     | NULL    |       |\n",
    "| base_SdssCentroid_xSigma                  | float               | YES  |     | NULL    |       |\n",
    "| base_SdssCentroid_ySigma                  | float               | YES  |     | NULL    |       |\n",
    "| base_InputCount_value                     | int(11)             | YES  |     | NULL    |       |\n",
    "| base_SdssShape_xx                         | double              | YES  |     | NULL    |       |\n",
    "| base_SdssShape_yy                         | double              | YES  |     | NULL    |       |\n",
    "| base_SdssShape_xy                         | double              | YES  |     | NULL    |       |\n",
    "| base_SdssShape_xxSigma                    | float               | YES  |     | NULL    |       |\n",
    "| base_SdssShape_yySigma                    | float               | YES  |     | NULL    |       |\n",
    "| base_SdssShape_xySigma                    | float               | YES  |     | NULL    |       |\n",
    "| base_SdssShape_x                          | double              | YES  |     | NULL    |       |\n",
    "| base_SdssShape_y                          | double              | YES  |     | NULL    |       |\n",
    "| base_SdssShape_flux                       | double              | YES  |     | NULL    |       |\n",
    "| base_SdssShape_fluxSigma                  | double              | YES  |     | NULL    |       |\n",
    "| base_SdssShape_psf_xx                     | double              | YES  |     | NULL    |       |\n",
    "| base_SdssShape_psf_yy                     | double              | YES  |     | NULL    |       |\n",
    "| base_SdssShape_psf_xy                     | double              | YES  |     | NULL    |       |\n",
    "| base_SdssShape_flux_xx_Cov                | float               | YES  |     | NULL    |       |\n",
    "| base_SdssShape_flux_yy_Cov                | float               | YES  |     | NULL    |       |\n",
    "| base_SdssShape_flux_xy_Cov                | float               | YES  |     | NULL    |       |\n",
    "| ext_shapeHSM_HsmPsfMoments_x              | double              | YES  |     | NULL    |       |\n",
    "| ext_shapeHSM_HsmPsfMoments_y              | double              | YES  |     | NULL    |       |\n",
    "| ext_shapeHSM_HsmPsfMoments_xx             | double              | YES  |     | NULL    |       |\n",
    "| ext_shapeHSM_HsmPsfMoments_yy             | double              | YES  |     | NULL    |       |\n",
    "| ext_shapeHSM_HsmPsfMoments_xy             | double              | YES  |     | NULL    |       |\n",
    "| ext_shapeHSM_HsmShapeRegauss_e1           | double              | YES  |     | NULL    |       |\n",
    "| ext_shapeHSM_HsmShapeRegauss_e2           | double              | YES  |     | NULL    |       |\n",
    "| ext_shapeHSM_HsmShapeRegauss_sigma        | double              | YES  |     | NULL    |       |\n",
    "| ext_shapeHSM_HsmShapeRegauss_resolution   | double              | YES  |     | NULL    |       |\n",
    "| ext_shapeHSM_HsmSourceMoments_x           | double              | YES  |     | NULL    |       |\n",
    "| ext_shapeHSM_HsmSourceMoments_y           | double              | YES  |     | NULL    |       |\n",
    "| ext_shapeHSM_HsmSourceMoments_xx          | double              | YES  |     | NULL    |       |\n",
    "| ext_shapeHSM_HsmSourceMoments_yy          | double              | YES  |     | NULL    |       |\n",
    "| ext_shapeHSM_HsmSourceMoments_xy          | double              | YES  |     | NULL    |       |\n",
    "| modelfit_DoubleShapeletPsfApprox_0_xx     | double              | YES  |     | NULL    |       |\n",
    "| modelfit_DoubleShapeletPsfApprox_0_yy     | double              | YES  |     | NULL    |       |\n",
    "| modelfit_DoubleShapeletPsfApprox_0_xy     | double              | YES  |     | NULL    |       |\n",
    "| modelfit_DoubleShapeletPsfApprox_0_x      | double              | YES  |     | NULL    |       |\n",
    "| modelfit_DoubleShapeletPsfApprox_0_y      | double              | YES  |     | NULL    |       |\n",
    "| modelfit_DoubleShapeletPsfApprox_0_0      | double              | YES  |     | NULL    |       |\n",
    "| modelfit_DoubleShapeletPsfApprox_0_1      | double              | YES  |     | NULL    |       |\n",
    "| modelfit_DoubleShapeletPsfApprox_0_2      | double              | YES  |     | NULL    |       |\n",
    "| modelfit_DoubleShapeletPsfApprox_0_3      | double              | YES  |     | NULL    |       |\n",
    "| modelfit_DoubleShapeletPsfApprox_0_4      | double              | YES  |     | NULL    |       |\n",
    "| modelfit_DoubleShapeletPsfApprox_0_5      | double              | YES  |     | NULL    |       |\n",
    "| modelfit_DoubleShapeletPsfApprox_1_xx     | double              | YES  |     | NULL    |       |\n",
    "| modelfit_DoubleShapeletPsfApprox_1_yy     | double              | YES  |     | NULL    |       |\n",
    "| modelfit_DoubleShapeletPsfApprox_1_xy     | double              | YES  |     | NULL    |       |\n",
    "| modelfit_DoubleShapeletPsfApprox_1_x      | double              | YES  |     | NULL    |       |\n",
    "| modelfit_DoubleShapeletPsfApprox_1_y      | double              | YES  |     | NULL    |       |\n",
    "| modelfit_DoubleShapeletPsfApprox_1_0      | double              | YES  |     | NULL    |       |\n",
    "| modelfit_DoubleShapeletPsfApprox_1_1      | double              | YES  |     | NULL    |       |\n",
    "| modelfit_DoubleShapeletPsfApprox_1_2      | double              | YES  |     | NULL    |       |\n",
    "| base_CircularApertureFlux_3_0_flux        | double              | YES  |     | NULL    |       |\n",
    "| base_CircularApertureFlux_3_0_fluxSigma   | double              | YES  |     | NULL    |       |\n",
    "| base_CircularApertureFlux_4_5_flux        | double              | YES  |     | NULL    |       |\n",
    "| base_CircularApertureFlux_4_5_fluxSigma   | double              | YES  |     | NULL    |       |\n",
    "| base_CircularApertureFlux_6_0_flux        | double              | YES  |     | NULL    |       |\n",
    "| base_CircularApertureFlux_6_0_fluxSigma   | double              | YES  |     | NULL    |       |\n",
    "| base_CircularApertureFlux_9_0_flux        | double              | YES  |     | NULL    |       |\n",
    "| base_CircularApertureFlux_9_0_fluxSigma   | double              | YES  |     | NULL    |       |\n",
    "| base_CircularApertureFlux_12_0_flux       | double              | YES  |     | NULL    |       |\n",
    "| base_CircularApertureFlux_12_0_fluxSigma  | double              | YES  |     | NULL    |       |\n",
    "| base_CircularApertureFlux_17_0_flux       | double              | YES  |     | NULL    |       |\n",
    "| base_CircularApertureFlux_17_0_fluxSigma  | double              | YES  |     | NULL    |       |\n",
    "| base_CircularApertureFlux_25_0_flux       | double              | YES  |     | NULL    |       |\n",
    "| base_CircularApertureFlux_25_0_fluxSigma  | double              | YES  |     | NULL    |       |\n",
    "| base_CircularApertureFlux_35_0_flux       | double              | YES  |     | NULL    |       |\n",
    "| base_CircularApertureFlux_35_0_fluxSigma  | double              | YES  |     | NULL    |       |\n",
    "| base_CircularApertureFlux_50_0_flux       | double              | YES  |     | NULL    |       |\n",
    "| base_CircularApertureFlux_50_0_fluxSigma  | double              | YES  |     | NULL    |       |\n",
    "| base_CircularApertureFlux_70_0_flux       | double              | YES  |     | NULL    |       |\n",
    "| base_CircularApertureFlux_70_0_fluxSigma  | double              | YES  |     | NULL    |       |\n",
    "| base_GaussianFlux_flux                    | double              | YES  |     | NULL    |       |\n",
    "| base_GaussianFlux_fluxSigma               | double              | YES  |     | NULL    |       |\n",
    "| base_PsfFlux_flux                         | double              | YES  |     | NULL    |       |\n",
    "| base_PsfFlux_fluxSigma                    | double              | YES  |     | NULL    |       |\n",
    "| base_Variance_value                       | double              | YES  |     | NULL    |       |\n",
    "| modelfit_CModel_initial_flux              | double              | YES  |     | NULL    |       |\n",
    "| modelfit_CModel_initial_fluxSigma         | double              | YES  |     | NULL    |       |\n",
    "| modelfit_CModel_initial_flux_inner        | double              | YES  |     | NULL    |       |\n",
    "| modelfit_CModel_initial_ellipse_xx        | double              | YES  |     | NULL    |       |\n",
    "| modelfit_CModel_initial_ellipse_yy        | double              | YES  |     | NULL    |       |\n",
    "| modelfit_CModel_initial_ellipse_xy        | double              | YES  |     | NULL    |       |\n",
    "| modelfit_CModel_initial_objective         | double              | YES  |     | NULL    |       |\n",
    "| modelfit_CModel_initial_nonlinear_0       | double              | YES  |     | NULL    |       |\n",
    "| modelfit_CModel_initial_nonlinear_1       | double              | YES  |     | NULL    |       |\n",
    "| modelfit_CModel_initial_nonlinear_2       | double              | YES  |     | NULL    |       |\n",
    "| modelfit_CModel_initial_fixed_0           | double              | YES  |     | NULL    |       |\n",
    "| modelfit_CModel_initial_fixed_1           | double              | YES  |     | NULL    |       |\n",
    "| modelfit_CModel_initial_nIter             | int(11)             | YES  |     | NULL    |       |\n",
    "| modelfit_CModel_initial_time              | double              | YES  |     | NULL    |       |\n",
    "| modelfit_CModel_exp_flux                  | double              | YES  |     | NULL    |       |\n",
    "| modelfit_CModel_exp_fluxSigma             | double              | YES  |     | NULL    |       |\n",
    "| modelfit_CModel_exp_flux_inner            | double              | YES  |     | NULL    |       |\n",
    "| modelfit_CModel_exp_ellipse_xx            | double              | YES  |     | NULL    |       |\n",
    "| modelfit_CModel_exp_ellipse_yy            | double              | YES  |     | NULL    |       |\n",
    "| modelfit_CModel_exp_ellipse_xy            | double              | YES  |     | NULL    |       |\n",
    "| modelfit_CModel_exp_objective             | double              | YES  |     | NULL    |       |\n",
    "| modelfit_CModel_exp_nonlinear_0           | double              | YES  |     | NULL    |       |\n",
    "| modelfit_CModel_exp_nonlinear_1           | double              | YES  |     | NULL    |       |\n",
    "| modelfit_CModel_exp_nonlinear_2           | double              | YES  |     | NULL    |       |\n",
    "| modelfit_CModel_exp_fixed_0               | double              | YES  |     | NULL    |       |\n",
    "| modelfit_CModel_exp_fixed_1               | double              | YES  |     | NULL    |       |\n",
    "| modelfit_CModel_exp_nIter                 | int(11)             | YES  |     | NULL    |       |\n",
    "| modelfit_CModel_exp_time                  | double              | YES  |     | NULL    |       |\n",
    "| modelfit_CModel_dev_flux                  | double              | YES  |     | NULL    |       |\n",
    "| modelfit_CModel_dev_fluxSigma             | double              | YES  |     | NULL    |       |\n",
    "| modelfit_CModel_dev_flux_inner            | double              | YES  |     | NULL    |       |\n",
    "| modelfit_CModel_dev_ellipse_xx            | double              | YES  |     | NULL    |       |\n",
    "| modelfit_CModel_dev_ellipse_yy            | double              | YES  |     | NULL    |       |\n",
    "| modelfit_CModel_dev_ellipse_xy            | double              | YES  |     | NULL    |       |\n",
    "| modelfit_CModel_dev_objective             | double              | YES  |     | NULL    |       |\n",
    "| modelfit_CModel_dev_nonlinear_0           | double              | YES  |     | NULL    |       |\n",
    "| modelfit_CModel_dev_nonlinear_1           | double              | YES  |     | NULL    |       |\n",
    "| modelfit_CModel_dev_nonlinear_2           | double              | YES  |     | NULL    |       |\n",
    "| modelfit_CModel_dev_fixed_0               | double              | YES  |     | NULL    |       |\n",
    "| modelfit_CModel_dev_fixed_1               | double              | YES  |     | NULL    |       |\n",
    "| modelfit_CModel_dev_nIter                 | int(11)             | YES  |     | NULL    |       |\n",
    "| modelfit_CModel_dev_time                  | double              | YES  |     | NULL    |       |\n",
    "| modelfit_CModel_flux                      | double              | YES  |     | NULL    |       |\n",
    "| modelfit_CModel_fluxSigma                 | double              | YES  |     | NULL    |       |\n",
    "| modelfit_CModel_flux_inner                | double              | YES  |     | NULL    |       |\n",
    "| modelfit_CModel_fracDev                   | double              | YES  |     | NULL    |       |\n",
    "| modelfit_CModel_objective                 | double              | YES  |     | NULL    |       |\n",
    "| modelfit_CModel_ellipse_xx                | double              | YES  |     | NULL    |       |\n",
    "| modelfit_CModel_ellipse_yy                | double              | YES  |     | NULL    |       |\n",
    "| modelfit_CModel_ellipse_xy                | double              | YES  |     | NULL    |       |\n",
    "| modelfit_CModel_region_initial_ellipse_xx | double              | YES  |     | NULL    |       |\n",
    "| modelfit_CModel_region_initial_ellipse_yy | double              | YES  |     | NULL    |       |\n",
    "| modelfit_CModel_region_initial_ellipse_xy | double              | YES  |     | NULL    |       |\n",
    "| modelfit_CModel_region_final_ellipse_xx   | double              | YES  |     | NULL    |       |\n",
    "| modelfit_CModel_region_final_ellipse_yy   | double              | YES  |     | NULL    |       |\n",
    "| modelfit_CModel_region_final_ellipse_xy   | double              | YES  |     | NULL    |       |\n",
    "| modelfit_CModel_exp_apCorr                | double              | YES  |     | NULL    |       |\n",
    "| modelfit_CModel_exp_apCorrSigma           | double              | YES  |     | NULL    |       |\n",
    "| base_PsfFlux_apCorr                       | double              | YES  |     | NULL    |       |\n",
    "| base_PsfFlux_apCorrSigma                  | double              | YES  |     | NULL    |       |\n",
    "| modelfit_CModel_apCorr                    | double              | YES  |     | NULL    |       |\n",
    "| modelfit_CModel_apCorrSigma               | double              | YES  |     | NULL    |       |\n",
    "| modelfit_CModel_initial_apCorr            | double              | YES  |     | NULL    |       |\n",
    "| modelfit_CModel_initial_apCorrSigma       | double              | YES  |     | NULL    |       |\n",
    "| base_GaussianFlux_apCorr                  | double              | YES  |     | NULL    |       |\n",
    "| base_GaussianFlux_apCorrSigma             | double              | YES  |     | NULL    |       |\n",
    "| modelfit_CModel_dev_apCorr                | double              | YES  |     | NULL    |       |\n",
    "| modelfit_CModel_dev_apCorrSigma           | double              | YES  |     | NULL    |       |\n",
    "| base_ClassificationExtendedness_value     | double              | YES  |     | NULL    |       |\n",
    "| footprint                                 | int(11)             | YES  |     | NULL    |       |\n",
    "| projectId                                 | int(11)             | NO   | PRI | NULL    |       |\n",
    "| patch                                     | char(20)            | NO   | PRI | NULL    |       |\n",
    "+-------------------------------------------+---------------------+------+-----+---------+-------+\n",
    "166 rows in set (0.01 sec)\n",
    "\n",
    "```"
   ]
  },
  {
   "cell_type": "markdown",
   "metadata": {},
   "source": [
    "### The CcdVisit table\n",
    "\n",
    "This table implements the `CcdVisit` table in [baseline schema](https://lsst-web.ncsa.illinois.edu/schema/index.php?sVer=baseline).  It is (partially) filled with information from the `registry.sqlite3` used by the Level 2 pipeline and from the `calexp` information, which is accessed using the data butler.\n",
    "\n",
    "```\n",
    "MySQL [DESC_DC1_Level_2]> describe CcdVisit;\n",
    "+----------------+------------+------+-----+---------+-------+\n",
    "| Field          | Type       | Null | Key | Default | Extra |\n",
    "+----------------+------------+------+-----+---------+-------+\n",
    "| ccdVisitId     | bigint(20) | NO   | PRI | NULL    |       |\n",
    "| visitId        | int(11)    | YES  |     | NULL    |       |\n",
    "| ccdName        | char(3)    | YES  |     | NULL    |       |\n",
    "| raftName       | char(3)    | YES  |     | NULL    |       |\n",
    "| filterName     | char(1)    | YES  |     | NULL    |       |\n",
    "| nExposures     | int(11)    | YES  |     | NULL    |       |\n",
    "| ra             | double     | YES  |     | NULL    |       |\n",
    "| decl           | double     | YES  |     | NULL    |       |\n",
    "| zenithDistance | float      | YES  |     | NULL    |       |\n",
    "| llcx           | int(11)    | YES  |     | NULL    |       |\n",
    "| llcy           | int(11)    | YES  |     | NULL    |       |\n",
    "| ulcx           | int(11)    | YES  |     | NULL    |       |\n",
    "| ulcy           | int(11)    | YES  |     | NULL    |       |\n",
    "| urcx           | int(11)    | YES  |     | NULL    |       |\n",
    "| urcy           | int(11)    | YES  |     | NULL    |       |\n",
    "| lrcx           | int(11)    | YES  |     | NULL    |       |\n",
    "| lrcy           | int(11)    | YES  |     | NULL    |       |\n",
    "| xSize          | int(11)    | YES  |     | NULL    |       |\n",
    "| ySize          | int(11)    | YES  |     | NULL    |       |\n",
    "| obsStart       | timestamp  | YES  |     | NULL    |       |\n",
    "| expMidpt       | double     | YES  |     | NULL    |       |\n",
    "| expTime        | double     | YES  |     | NULL    |       |\n",
    "| darkTime       | double     | YES  |     | NULL    |       |\n",
    "| ccdTemp        | float      | YES  |     | NULL    |       |\n",
    "| binX           | int(11)    | YES  |     | NULL    |       |\n",
    "| binY           | int(11)    | YES  |     | NULL    |       |\n",
    "| WCS            | blob       | YES  |     | NULL    |       |\n",
    "| zeroPoint      | float      | YES  |     | NULL    |       |\n",
    "| seeing         | float      | YES  |     | NULL    |       |\n",
    "| skyBg          | float      | YES  |     | NULL    |       |\n",
    "| skyNoise       | float      | YES  |     | NULL    |       |\n",
    "| flags          | int(11)    | YES  |     | NULL    |       |\n",
    "| projectId      | int(11)    | NO   | PRI | NULL    |       |\n",
    "+----------------+------------+------+-----+---------+-------+\n",
    "33 rows in set (0.00 sec)\n",
    "\n",
    "```"
   ]
  }
 ],
 "metadata": {
  "kernelspec": {
   "display_name": "Python 2",
   "language": "python",
   "name": "python2"
  },
  "language_info": {
   "codemirror_mode": {
    "name": "ipython",
    "version": 2
   },
   "file_extension": ".py",
   "mimetype": "text/x-python",
   "name": "python",
   "nbconvert_exporter": "python",
   "pygments_lexer": "ipython2",
   "version": "2.7.12"
  }
 },
 "nbformat": 4,
 "nbformat_minor": 0
}
