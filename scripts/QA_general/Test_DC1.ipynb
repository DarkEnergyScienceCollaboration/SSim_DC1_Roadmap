{
 "cells": [
  {
   "cell_type": "code",
   "execution_count": 2,
   "metadata": {
    "collapsed": true
   },
   "outputs": [],
   "source": [
    "import numpy as np\n",
    "import matplotlib.pyplot as plt\n",
    "%matplotlib inline"
   ]
  },
  {
   "cell_type": "code",
   "execution_count": 3,
   "metadata": {
    "collapsed": false
   },
   "outputs": [],
   "source": [
    "import lsst.daf.persistence\n",
    "DATA_DIR_DITHERED = \"/global/cscratch1/sd/descdm/DC1/DC1-imsim-dithered/\"\n",
    "DATA_DIR_UNDITHERED = \"/global/cscratch1/sd/descdm/DC1/DC1-imsim-undithered/\""
   ]
  },
  {
   "cell_type": "markdown",
   "metadata": {},
   "source": [
    "I call the butler to get the data"
   ]
  },
  {
   "cell_type": "code",
   "execution_count": 4,
   "metadata": {
    "collapsed": false
   },
   "outputs": [],
   "source": [
    "butler = lsst.daf.persistence.Butler(DATA_DIR_DITHERED)"
   ]
  },
  {
   "cell_type": "code",
   "execution_count": 9,
   "metadata": {
    "collapsed": false
   },
   "outputs": [
    {
     "name": "stdout",
     "output_type": "stream",
     "text": [
      "{'patch': <type 'str'>, 'tract': <type 'int'>}\n",
      "{'filter': <type 'str'>, 'patch': <type 'str'>, 'tract': <type 'int'>}\n",
      "{'filter': <type 'str'>, 'patch': <type 'str'>, 'tract': <type 'int'>}\n"
     ]
    }
   ],
   "source": [
    "print butler.getKeys(\"deepCoadd_ref\")\n",
    "print butler.getKeys(\"deepCoadd_calexp\")\n",
    "print butler.getKeys(\"deepCoadd_meas\")"
   ]
  },
  {
   "cell_type": "code",
   "execution_count": 7,
   "metadata": {
    "collapsed": false
   },
   "outputs": [],
   "source": [
    "exposure = butler.get(\"deepCoadd_calexp\", filter='r', patch='10,10', tract=0, immediate=True)"
   ]
  },
  {
   "cell_type": "code",
   "execution_count": 11,
   "metadata": {
    "collapsed": false
   },
   "outputs": [],
   "source": [
    "catalog = butler.get(\"deepCoadd_ref\", patch='10,10', tract=0, immediate=True)"
   ]
  },
  {
   "cell_type": "code",
   "execution_count": 12,
   "metadata": {
    "collapsed": true
   },
   "outputs": [],
   "source": [
    "catalog2 = butler.get(\"deepCoadd_meas\", patch='10,10', tract=0, immediate=True, filter='r')"
   ]
  },
  {
   "cell_type": "code",
   "execution_count": 13,
   "metadata": {
    "collapsed": false
   },
   "outputs": [
    {
     "name": "stdout",
     "output_type": "stream",
     "text": [
      "79076\n"
     ]
    }
   ],
   "source": [
    "print len(catalog)"
   ]
  },
  {
   "cell_type": "code",
   "execution_count": 14,
   "metadata": {
    "collapsed": false
   },
   "outputs": [
    {
     "name": "stdout",
     "output_type": "stream",
     "text": [
      "79076\n"
     ]
    }
   ],
   "source": [
    "print len(catalog2)"
   ]
  },
  {
   "cell_type": "code",
   "execution_count": 22,
   "metadata": {
    "collapsed": false
   },
   "outputs": [
    {
     "data": {
      "text/plain": [
       "Schema(\n",
       "    (Field['L'](name=\"id\", doc=\"unique ID\"), Key<L>(offset=0, nElements=1)),\n",
       "    (Field['Angle'](name=\"coord_ra\", doc=\"position in ra/dec\"), Key<Angle>(offset=8, nElements=1)),\n",
       "    (Field['Angle'](name=\"coord_dec\", doc=\"position in ra/dec\"), Key<Angle>(offset=16, nElements=1)),\n",
       "    (Field['L'](name=\"parent\", doc=\"unique ID of parent source\"), Key<L>(offset=24, nElements=1)),\n",
       "    (Field['Flag'](name=\"flags_negative\", doc=\"set if source was detected as significantly negative\"), Key['Flag'](offset=32, bit=0)),\n",
       "    (Field['Flag'](name=\"merge_footprint_i\", doc=\"Detection footprint overlapped with a detection from filter i\"), Key['Flag'](offset=32, bit=1)),\n",
       "    (Field['Flag'](name=\"merge_footprint_r\", doc=\"Detection footprint overlapped with a detection from filter r\"), Key['Flag'](offset=32, bit=2)),\n",
       "    (Field['Flag'](name=\"merge_footprint_z\", doc=\"Detection footprint overlapped with a detection from filter z\"), Key['Flag'](offset=32, bit=3)),\n",
       "    (Field['Flag'](name=\"merge_footprint_g\", doc=\"Detection footprint overlapped with a detection from filter g\"), Key['Flag'](offset=32, bit=4)),\n",
       "    (Field['Flag'](name=\"merge_footprint_y\", doc=\"Detection footprint overlapped with a detection from filter y\"), Key['Flag'](offset=32, bit=5)),\n",
       "    (Field['Flag'](name=\"merge_footprint_u\", doc=\"Detection footprint overlapped with a detection from filter u\"), Key['Flag'](offset=32, bit=6)),\n",
       "    (Field['Flag'](name=\"merge_footprint_sky\", doc=\"Detection footprint overlapped with a detection from filter sky\"), Key['Flag'](offset=32, bit=7)),\n",
       "    (Field['Flag'](name=\"merge_peak_i\", doc=\"Peak detected in filter i\"), Key['Flag'](offset=32, bit=8)),\n",
       "    (Field['Flag'](name=\"merge_peak_r\", doc=\"Peak detected in filter r\"), Key['Flag'](offset=32, bit=9)),\n",
       "    (Field['Flag'](name=\"merge_peak_z\", doc=\"Peak detected in filter z\"), Key['Flag'](offset=32, bit=10)),\n",
       "    (Field['Flag'](name=\"merge_peak_g\", doc=\"Peak detected in filter g\"), Key['Flag'](offset=32, bit=11)),\n",
       "    (Field['Flag'](name=\"merge_peak_y\", doc=\"Peak detected in filter y\"), Key['Flag'](offset=32, bit=12)),\n",
       "    (Field['Flag'](name=\"merge_peak_u\", doc=\"Peak detected in filter u\"), Key['Flag'](offset=32, bit=13)),\n",
       "    (Field['Flag'](name=\"merge_peak_sky\", doc=\"Peak detected in filter sky\"), Key['Flag'](offset=32, bit=14)),\n",
       "    (Field['I'](name=\"deblend_nChild\", doc=\"Number of children this object has (defaults to 0)\"), Key<I>(offset=40, nElements=1)),\n",
       "    (Field['Flag'](name=\"deblend_deblendedAsPsf\", doc=\"Deblender thought this source looked like a PSF\"), Key['Flag'](offset=32, bit=15)),\n",
       "    (Field['D'](name=\"deblend_psfCenter_x\", doc=\"If deblended-as-psf, the PSF centroid\", units=\"pixel\"), Key<D>(offset=48, nElements=1)),\n",
       "    (Field['D'](name=\"deblend_psfCenter_y\", doc=\"If deblended-as-psf, the PSF centroid\", units=\"pixel\"), Key<D>(offset=56, nElements=1)),\n",
       "    (Field['D'](name=\"deblend_psfFlux\", doc=\"If deblended-as-psf, the PSF flux\"), Key<D>(offset=64, nElements=1)),\n",
       "    (Field['Flag'](name=\"deblend_tooManyPeaks\", doc=\"Source had too many peaks; only the brightest were included\"), Key['Flag'](offset=32, bit=16)),\n",
       "    (Field['Flag'](name=\"deblend_parentTooBig\", doc=\"Parent footprint covered too many pixels\"), Key['Flag'](offset=32, bit=17)),\n",
       "    (Field['Flag'](name=\"deblend_masked\", doc=\"Parent footprint was predominantly masked\"), Key['Flag'](offset=32, bit=18)),\n",
       "    (Field['Flag'](name=\"deblend_skipped\", doc=\"Deblender skipped this source\"), Key['Flag'](offset=32, bit=19)),\n",
       "    (Field['Flag'](name=\"deblend_rampedTemplate\", doc=\"This source was near an image edge and the deblender used \"ramp\" edge-handling.\"), Key['Flag'](offset=32, bit=20)),\n",
       "    (Field['Flag'](name=\"deblend_patchedTemplate\", doc=\"This source was near an image edge and the deblender used \"patched\" edge-handling.\"), Key['Flag'](offset=32, bit=21)),\n",
       "    (Field['Flag'](name=\"deblend_hasStrayFlux\", doc=\"This source was assigned some stray flux\"), Key['Flag'](offset=32, bit=22)),\n",
       "    (Field['D'](name=\"base_GaussianCentroid_x\", doc=\"centroid from Gaussian Centroid algorithm\", units=\"pixel\"), Key<D>(offset=72, nElements=1)),\n",
       "    (Field['D'](name=\"base_GaussianCentroid_y\", doc=\"centroid from Gaussian Centroid algorithm\", units=\"pixel\"), Key<D>(offset=80, nElements=1)),\n",
       "    (Field['Flag'](name=\"base_GaussianCentroid_flag\", doc=\"general failure flag, set if anything went wrong\"), Key['Flag'](offset=32, bit=23)),\n",
       "    (Field['Flag'](name=\"base_GaussianCentroid_flag_noPeak\", doc=\"Fitted Centroid has a negative peak\"), Key['Flag'](offset=32, bit=24)),\n",
       "    (Field['Flag'](name=\"base_GaussianCentroid_flag_resetToPeak\", doc=\"set if CentroidChecker reset the centroid\"), Key['Flag'](offset=32, bit=25)),\n",
       "    (Field['D'](name=\"base_NaiveCentroid_x\", doc=\"centroid from Naive Centroid algorithm\", units=\"pixel\"), Key<D>(offset=88, nElements=1)),\n",
       "    (Field['D'](name=\"base_NaiveCentroid_y\", doc=\"centroid from Naive Centroid algorithm\", units=\"pixel\"), Key<D>(offset=96, nElements=1)),\n",
       "    (Field['Flag'](name=\"base_NaiveCentroid_flag\", doc=\"general failure flag, set if anything went wrong\"), Key['Flag'](offset=32, bit=26)),\n",
       "    (Field['Flag'](name=\"base_NaiveCentroid_flag_noCounts\", doc=\"Object to be centroided has no counts\"), Key['Flag'](offset=32, bit=27)),\n",
       "    (Field['Flag'](name=\"base_NaiveCentroid_flag_edge\", doc=\"Object too close to edge\"), Key['Flag'](offset=32, bit=28)),\n",
       "    (Field['Flag'](name=\"base_NaiveCentroid_flag_resetToPeak\", doc=\"set if CentroidChecker reset the centroid\"), Key['Flag'](offset=32, bit=29)),\n",
       "    (Field['D'](name=\"base_SdssCentroid_x\", doc=\"centroid from Sdss Centroid algorithm\", units=\"pixel\"), Key<D>(offset=104, nElements=1)),\n",
       "    (Field['D'](name=\"base_SdssCentroid_y\", doc=\"centroid from Sdss Centroid algorithm\", units=\"pixel\"), Key<D>(offset=112, nElements=1)),\n",
       "    (Field['F'](name=\"base_SdssCentroid_xSigma\", doc=\"1-sigma uncertainty on x position\", units=\"pixel\"), Key<F>(offset=120, nElements=1)),\n",
       "    (Field['F'](name=\"base_SdssCentroid_ySigma\", doc=\"1-sigma uncertainty on y position\", units=\"pixel\"), Key<F>(offset=124, nElements=1)),\n",
       "    (Field['Flag'](name=\"base_SdssCentroid_flag\", doc=\"general failure flag, set if anything went wrong\"), Key['Flag'](offset=32, bit=30)),\n",
       "    (Field['Flag'](name=\"base_SdssCentroid_flag_edge\", doc=\"Object too close to edge\"), Key['Flag'](offset=32, bit=31)),\n",
       "    (Field['Flag'](name=\"base_SdssCentroid_flag_noSecondDerivative\", doc=\"Vanishing second derivative\"), Key['Flag'](offset=32, bit=32)),\n",
       "    (Field['Flag'](name=\"base_SdssCentroid_flag_almostNoSecondDerivative\", doc=\"Almost vanishing second derivative\"), Key['Flag'](offset=32, bit=33)),\n",
       "    (Field['Flag'](name=\"base_SdssCentroid_flag_notAtMaximum\", doc=\"Object is not at a maximum\"), Key['Flag'](offset=32, bit=34)),\n",
       "    (Field['Flag'](name=\"base_SdssCentroid_flag_resetToPeak\", doc=\"set if CentroidChecker reset the centroid\"), Key['Flag'](offset=32, bit=35)),\n",
       "    (Field['I'](name=\"base_InputCount_value\", doc=\"Number of images contributing at center, not including anyclipping\"), Key<I>(offset=128, nElements=1)),\n",
       "    (Field['Flag'](name=\"base_InputCount_flag\", doc=\"Set to True for fatal failure\"), Key['Flag'](offset=32, bit=36)),\n",
       "    (Field['Flag'](name=\"base_InputCount_flag_noInputs\", doc=\"No coadd inputs available\"), Key['Flag'](offset=32, bit=37)),\n",
       "    (Field['D'](name=\"base_SdssShape_xx\", doc=\"elliptical Gaussian adaptive moments\", units=\"pixel^2\"), Key<D>(offset=136, nElements=1)),\n",
       "    (Field['D'](name=\"base_SdssShape_yy\", doc=\"elliptical Gaussian adaptive moments\", units=\"pixel^2\"), Key<D>(offset=144, nElements=1)),\n",
       "    (Field['D'](name=\"base_SdssShape_xy\", doc=\"elliptical Gaussian adaptive moments\", units=\"pixel^2\"), Key<D>(offset=152, nElements=1)),\n",
       "    (Field['F'](name=\"base_SdssShape_xxSigma\", doc=\"1-sigma uncertainty on xx moment\", units=\"pixel^2\"), Key<F>(offset=160, nElements=1)),\n",
       "    (Field['F'](name=\"base_SdssShape_yySigma\", doc=\"1-sigma uncertainty on yy moment\", units=\"pixel^2\"), Key<F>(offset=164, nElements=1)),\n",
       "    (Field['F'](name=\"base_SdssShape_xySigma\", doc=\"1-sigma uncertainty on xy moment\", units=\"pixel^2\"), Key<F>(offset=168, nElements=1)),\n",
       "    (Field['D'](name=\"base_SdssShape_x\", doc=\"elliptical Gaussian adaptive moments\", units=\"pixel\"), Key<D>(offset=176, nElements=1)),\n",
       "    (Field['D'](name=\"base_SdssShape_y\", doc=\"elliptical Gaussian adaptive moments\", units=\"pixel\"), Key<D>(offset=184, nElements=1)),\n",
       "    (Field['D'](name=\"base_SdssShape_flux\", doc=\"elliptical Gaussian adaptive moments\", units=\"count\"), Key<D>(offset=192, nElements=1)),\n",
       "    (Field['D'](name=\"base_SdssShape_fluxSigma\", doc=\"1-sigma flux uncertainty\", units=\"count\"), Key<D>(offset=200, nElements=1)),\n",
       "    (Field['D'](name=\"base_SdssShape_psf_xx\", doc=\"adaptive moments of the PSF model at the object position\", units=\"pixel^2\"), Key<D>(offset=208, nElements=1)),\n",
       "    (Field['D'](name=\"base_SdssShape_psf_yy\", doc=\"adaptive moments of the PSF model at the object position\", units=\"pixel^2\"), Key<D>(offset=216, nElements=1)),\n",
       "    (Field['D'](name=\"base_SdssShape_psf_xy\", doc=\"adaptive moments of the PSF model at the object position\", units=\"pixel^2\"), Key<D>(offset=224, nElements=1)),\n",
       "    (Field['F'](name=\"base_SdssShape_flux_xx_Cov\", doc=\"uncertainty covariance between base_SdssShape_flux and base_SdssShape_xx\", units=\"count*pixel^2\"), Key<F>(offset=232, nElements=1)),\n",
       "    (Field['F'](name=\"base_SdssShape_flux_yy_Cov\", doc=\"uncertainty covariance between base_SdssShape_flux and base_SdssShape_yy\", units=\"count*pixel^2\"), Key<F>(offset=236, nElements=1)),\n",
       "    (Field['F'](name=\"base_SdssShape_flux_xy_Cov\", doc=\"uncertainty covariance between base_SdssShape_flux and base_SdssShape_xy\", units=\"count*pixel^2\"), Key<F>(offset=240, nElements=1)),\n",
       "    (Field['Flag'](name=\"base_SdssShape_flag\", doc=\"general failure flag, set if anything went wrong\"), Key['Flag'](offset=32, bit=38)),\n",
       "    (Field['Flag'](name=\"base_SdssShape_flag_unweightedBad\", doc=\"Both weighted and unweighted moments were invalid\"), Key['Flag'](offset=32, bit=39)),\n",
       "    (Field['Flag'](name=\"base_SdssShape_flag_unweighted\", doc=\"Weighted moments converged to an invalid value; using unweighted moments\"), Key['Flag'](offset=32, bit=40)),\n",
       "    (Field['Flag'](name=\"base_SdssShape_flag_shift\", doc=\"centroid shifted by more than the maximum allowed amount\"), Key['Flag'](offset=32, bit=41)),\n",
       "    (Field['Flag'](name=\"base_SdssShape_flag_maxIter\", doc=\"Too many iterations in adaptive moments\"), Key['Flag'](offset=32, bit=42)),\n",
       "    (Field['Flag'](name=\"base_SdssShape_flag_psf\", doc=\"Failure in measuring PSF model shape\"), Key['Flag'](offset=32, bit=43)),\n",
       "    (Field['D'](name=\"ext_shapeHSM_HsmPsfMoments_x\", doc=\"HSM Centroid\", units=\"pixel\"), Key<D>(offset=248, nElements=1)),\n",
       "    (Field['D'](name=\"ext_shapeHSM_HsmPsfMoments_y\", doc=\"HSM Centroid\", units=\"pixel\"), Key<D>(offset=256, nElements=1)),\n",
       "    (Field['D'](name=\"ext_shapeHSM_HsmPsfMoments_xx\", doc=\"HSM moments\", units=\"pixel^2\"), Key<D>(offset=264, nElements=1)),\n",
       "    (Field['D'](name=\"ext_shapeHSM_HsmPsfMoments_yy\", doc=\"HSM moments\", units=\"pixel^2\"), Key<D>(offset=272, nElements=1)),\n",
       "    (Field['D'](name=\"ext_shapeHSM_HsmPsfMoments_xy\", doc=\"HSM moments\", units=\"pixel^2\"), Key<D>(offset=280, nElements=1)),\n",
       "    (Field['Flag'](name=\"ext_shapeHSM_HsmPsfMoments_flag\", doc=\"general failure flag, set if anything went wrong\"), Key['Flag'](offset=32, bit=44)),\n",
       "    (Field['Flag'](name=\"ext_shapeHSM_HsmPsfMoments_flag_no_pixels\", doc=\"no pixels to measure\"), Key['Flag'](offset=32, bit=45)),\n",
       "    (Field['Flag'](name=\"ext_shapeHSM_HsmPsfMoments_flag_not_contained\", doc=\"center not contained in footprint bounding box\"), Key['Flag'](offset=32, bit=46)),\n",
       "    (Field['Flag'](name=\"ext_shapeHSM_HsmPsfMoments_flag_galsim\", doc=\"GalSim error\"), Key['Flag'](offset=32, bit=47)),\n",
       "    (Field['D'](name=\"ext_shapeHSM_HsmShapeRegauss_e1\", doc=\"PSF-corrected shear using Hirata & Seljak (2003) ''''regaussianization\"), Key<D>(offset=288, nElements=1)),\n",
       "    (Field['D'](name=\"ext_shapeHSM_HsmShapeRegauss_e2\", doc=\"PSF-corrected shear using Hirata & Seljak (2003) ''''regaussianization\"), Key<D>(offset=296, nElements=1)),\n",
       "    (Field['D'](name=\"ext_shapeHSM_HsmShapeRegauss_sigma\", doc=\"PSF-corrected shear using Hirata & Seljak (2003) ''''regaussianization\"), Key<D>(offset=304, nElements=1)),\n",
       "    (Field['D'](name=\"ext_shapeHSM_HsmShapeRegauss_resolution\", doc=\"resolution factor (0=unresolved, 1=resolved)\"), Key<D>(offset=312, nElements=1)),\n",
       "    (Field['Flag'](name=\"ext_shapeHSM_HsmShapeRegauss_flag\", doc=\"general failure flag\"), Key['Flag'](offset=32, bit=48)),\n",
       "    (Field['Flag'](name=\"ext_shapeHSM_HsmShapeRegauss_flag_no_pixels\", doc=\"no pixels to measure\"), Key['Flag'](offset=32, bit=49)),\n",
       "    (Field['Flag'](name=\"ext_shapeHSM_HsmShapeRegauss_flag_not_contained\", doc=\"center not contained in footprint bounding box\"), Key['Flag'](offset=32, bit=50)),\n",
       "    (Field['Flag'](name=\"ext_shapeHSM_HsmShapeRegauss_flag_parent_source\", doc=\"parent source, ignored\"), Key['Flag'](offset=32, bit=51)),\n",
       "    (Field['Flag'](name=\"ext_shapeHSM_HsmShapeRegauss_flag_galsim\", doc=\"GalSim failure\"), Key['Flag'](offset=32, bit=52)),\n",
       "    (Field['D'](name=\"ext_shapeHSM_HsmSourceMoments_x\", doc=\"HSM Centroid\", units=\"pixel\"), Key<D>(offset=320, nElements=1)),\n",
       "    (Field['D'](name=\"ext_shapeHSM_HsmSourceMoments_y\", doc=\"HSM Centroid\", units=\"pixel\"), Key<D>(offset=328, nElements=1)),\n",
       "    (Field['D'](name=\"ext_shapeHSM_HsmSourceMoments_xx\", doc=\"HSM moments\", units=\"pixel^2\"), Key<D>(offset=336, nElements=1)),\n",
       "    (Field['D'](name=\"ext_shapeHSM_HsmSourceMoments_yy\", doc=\"HSM moments\", units=\"pixel^2\"), Key<D>(offset=344, nElements=1)),\n",
       "    (Field['D'](name=\"ext_shapeHSM_HsmSourceMoments_xy\", doc=\"HSM moments\", units=\"pixel^2\"), Key<D>(offset=352, nElements=1)),\n",
       "    (Field['Flag'](name=\"ext_shapeHSM_HsmSourceMoments_flag\", doc=\"general failure flag, set if anything went wrong\"), Key['Flag'](offset=32, bit=53)),\n",
       "    (Field['Flag'](name=\"ext_shapeHSM_HsmSourceMoments_flag_no_pixels\", doc=\"no pixels to measure\"), Key['Flag'](offset=32, bit=54)),\n",
       "    (Field['Flag'](name=\"ext_shapeHSM_HsmSourceMoments_flag_not_contained\", doc=\"center not contained in footprint bounding box\"), Key['Flag'](offset=32, bit=55)),\n",
       "    (Field['Flag'](name=\"ext_shapeHSM_HsmSourceMoments_flag_galsim\", doc=\"GalSim error\"), Key['Flag'](offset=32, bit=56)),\n",
       "    (Field['D'](name=\"modelfit_DoubleShapeletPsfApprox_0_xx\", doc=\"Double-Shapelet approximation to the PSF model at the position of this source\", units=\"pixel^2\"), Key<D>(offset=360, nElements=1)),\n",
       "    (Field['D'](name=\"modelfit_DoubleShapeletPsfApprox_0_yy\", doc=\"Double-Shapelet approximation to the PSF model at the position of this source\", units=\"pixel^2\"), Key<D>(offset=368, nElements=1)),\n",
       "    (Field['D'](name=\"modelfit_DoubleShapeletPsfApprox_0_xy\", doc=\"Double-Shapelet approximation to the PSF model at the position of this source\", units=\"pixel^2\"), Key<D>(offset=376, nElements=1)),\n",
       "    (Field['D'](name=\"modelfit_DoubleShapeletPsfApprox_0_x\", doc=\"Double-Shapelet approximation to the PSF model at the position of this source\", units=\"pixel\"), Key<D>(offset=384, nElements=1)),\n",
       "    (Field['D'](name=\"modelfit_DoubleShapeletPsfApprox_0_y\", doc=\"Double-Shapelet approximation to the PSF model at the position of this source\", units=\"pixel\"), Key<D>(offset=392, nElements=1)),\n",
       "    (Field['D'](name=\"modelfit_DoubleShapeletPsfApprox_0_0\", doc=\"Double-Shapelet approximation to the PSF model at the position of this source\"), Key<D>(offset=400, nElements=1)),\n",
       "    (Field['D'](name=\"modelfit_DoubleShapeletPsfApprox_0_1\", doc=\"Double-Shapelet approximation to the PSF model at the position of this source\"), Key<D>(offset=408, nElements=1)),\n",
       "    (Field['D'](name=\"modelfit_DoubleShapeletPsfApprox_0_2\", doc=\"Double-Shapelet approximation to the PSF model at the position of this source\"), Key<D>(offset=416, nElements=1)),\n",
       "    (Field['D'](name=\"modelfit_DoubleShapeletPsfApprox_0_3\", doc=\"Double-Shapelet approximation to the PSF model at the position of this source\"), Key<D>(offset=424, nElements=1)),\n",
       "    (Field['D'](name=\"modelfit_DoubleShapeletPsfApprox_0_4\", doc=\"Double-Shapelet approximation to the PSF model at the position of this source\"), Key<D>(offset=432, nElements=1)),\n",
       "    (Field['D'](name=\"modelfit_DoubleShapeletPsfApprox_0_5\", doc=\"Double-Shapelet approximation to the PSF model at the position of this source\"), Key<D>(offset=440, nElements=1)),\n",
       "    (Field['D'](name=\"modelfit_DoubleShapeletPsfApprox_1_xx\", doc=\"Double-Shapelet approximation to the PSF model at the position of this source\", units=\"pixel^2\"), Key<D>(offset=448, nElements=1)),\n",
       "    (Field['D'](name=\"modelfit_DoubleShapeletPsfApprox_1_yy\", doc=\"Double-Shapelet approximation to the PSF model at the position of this source\", units=\"pixel^2\"), Key<D>(offset=456, nElements=1)),\n",
       "    (Field['D'](name=\"modelfit_DoubleShapeletPsfApprox_1_xy\", doc=\"Double-Shapelet approximation to the PSF model at the position of this source\", units=\"pixel^2\"), Key<D>(offset=464, nElements=1)),\n",
       "    (Field['D'](name=\"modelfit_DoubleShapeletPsfApprox_1_x\", doc=\"Double-Shapelet approximation to the PSF model at the position of this source\", units=\"pixel\"), Key<D>(offset=472, nElements=1)),\n",
       "    (Field['D'](name=\"modelfit_DoubleShapeletPsfApprox_1_y\", doc=\"Double-Shapelet approximation to the PSF model at the position of this source\", units=\"pixel\"), Key<D>(offset=480, nElements=1)),\n",
       "    (Field['D'](name=\"modelfit_DoubleShapeletPsfApprox_1_0\", doc=\"Double-Shapelet approximation to the PSF model at the position of this source\"), Key<D>(offset=488, nElements=1)),\n",
       "    (Field['D'](name=\"modelfit_DoubleShapeletPsfApprox_1_1\", doc=\"Double-Shapelet approximation to the PSF model at the position of this source\"), Key<D>(offset=496, nElements=1)),\n",
       "    (Field['D'](name=\"modelfit_DoubleShapeletPsfApprox_1_2\", doc=\"Double-Shapelet approximation to the PSF model at the position of this source\"), Key<D>(offset=504, nElements=1)),\n",
       "    (Field['Flag'](name=\"modelfit_DoubleShapeletPsfApprox_flag\", doc=\"general failure flag\"), Key['Flag'](offset=32, bit=57)),\n",
       "    (Field['Flag'](name=\"modelfit_DoubleShapeletPsfApprox_flag_invalidPointForPsf\", doc=\"PSF model could not be evaluated at the source position\"), Key['Flag'](offset=32, bit=58)),\n",
       "    (Field['Flag'](name=\"modelfit_DoubleShapeletPsfApprox_flag_invalidMoments\", doc=\"Moments of the PSF model were not a valid ellipse\"), Key['Flag'](offset=32, bit=59)),\n",
       "    (Field['Flag'](name=\"modelfit_DoubleShapeletPsfApprox_flag_maxIterations\", doc=\"optimizer exceeded the maximum number (inner or outer) iterations\"), Key['Flag'](offset=32, bit=60)),\n",
       "    (Field['D'](name=\"base_CircularApertureFlux_3_0_flux\", doc=\"flux within 3.000000-pixel aperture\", units=\"count\"), Key<D>(offset=512, nElements=1)),\n",
       "    (Field['D'](name=\"base_CircularApertureFlux_3_0_fluxSigma\", doc=\"1-sigma flux uncertainty\", units=\"count\"), Key<D>(offset=520, nElements=1)),\n",
       "    (Field['Flag'](name=\"base_CircularApertureFlux_3_0_flag\", doc=\"general failure flag\"), Key['Flag'](offset=32, bit=61)),\n",
       "    (Field['Flag'](name=\"base_CircularApertureFlux_3_0_flag_apertureTruncated\", doc=\"aperture did not fit within measurement image\"), Key['Flag'](offset=32, bit=62)),\n",
       "    (Field['Flag'](name=\"base_CircularApertureFlux_3_0_flag_sincCoeffsTruncated\", doc=\"full sinc coefficient image did not fit within measurement image\"), Key['Flag'](offset=32, bit=63)),\n",
       "    (Field['D'](name=\"base_CircularApertureFlux_4_5_flux\", doc=\"flux within 4.500000-pixel aperture\", units=\"count\"), Key<D>(offset=528, nElements=1)),\n",
       "    (Field['D'](name=\"base_CircularApertureFlux_4_5_fluxSigma\", doc=\"1-sigma flux uncertainty\", units=\"count\"), Key<D>(offset=536, nElements=1)),\n",
       "    (Field['Flag'](name=\"base_CircularApertureFlux_4_5_flag\", doc=\"general failure flag\"), Key['Flag'](offset=544, bit=0)),\n",
       "    (Field['Flag'](name=\"base_CircularApertureFlux_4_5_flag_apertureTruncated\", doc=\"aperture did not fit within measurement image\"), Key['Flag'](offset=544, bit=1)),\n",
       "    (Field['Flag'](name=\"base_CircularApertureFlux_4_5_flag_sincCoeffsTruncated\", doc=\"full sinc coefficient image did not fit within measurement image\"), Key['Flag'](offset=544, bit=2)),\n",
       "    (Field['D'](name=\"base_CircularApertureFlux_6_0_flux\", doc=\"flux within 6.000000-pixel aperture\", units=\"count\"), Key<D>(offset=552, nElements=1)),\n",
       "    (Field['D'](name=\"base_CircularApertureFlux_6_0_fluxSigma\", doc=\"1-sigma flux uncertainty\", units=\"count\"), Key<D>(offset=560, nElements=1)),\n",
       "    (Field['Flag'](name=\"base_CircularApertureFlux_6_0_flag\", doc=\"general failure flag\"), Key['Flag'](offset=544, bit=3)),\n",
       "    (Field['Flag'](name=\"base_CircularApertureFlux_6_0_flag_apertureTruncated\", doc=\"aperture did not fit within measurement image\"), Key['Flag'](offset=544, bit=4)),\n",
       "    (Field['Flag'](name=\"base_CircularApertureFlux_6_0_flag_sincCoeffsTruncated\", doc=\"full sinc coefficient image did not fit within measurement image\"), Key['Flag'](offset=544, bit=5)),\n",
       "    (Field['D'](name=\"base_CircularApertureFlux_9_0_flux\", doc=\"flux within 9.000000-pixel aperture\", units=\"count\"), Key<D>(offset=568, nElements=1)),\n",
       "    (Field['D'](name=\"base_CircularApertureFlux_9_0_fluxSigma\", doc=\"1-sigma flux uncertainty\", units=\"count\"), Key<D>(offset=576, nElements=1)),\n",
       "    (Field['Flag'](name=\"base_CircularApertureFlux_9_0_flag\", doc=\"general failure flag\"), Key['Flag'](offset=544, bit=6)),\n",
       "    (Field['Flag'](name=\"base_CircularApertureFlux_9_0_flag_apertureTruncated\", doc=\"aperture did not fit within measurement image\"), Key['Flag'](offset=544, bit=7)),\n",
       "    (Field['Flag'](name=\"base_CircularApertureFlux_9_0_flag_sincCoeffsTruncated\", doc=\"full sinc coefficient image did not fit within measurement image\"), Key['Flag'](offset=544, bit=8)),\n",
       "    (Field['D'](name=\"base_CircularApertureFlux_12_0_flux\", doc=\"flux within 12.000000-pixel aperture\", units=\"count\"), Key<D>(offset=584, nElements=1)),\n",
       "    (Field['D'](name=\"base_CircularApertureFlux_12_0_fluxSigma\", doc=\"1-sigma flux uncertainty\", units=\"count\"), Key<D>(offset=592, nElements=1)),\n",
       "    (Field['Flag'](name=\"base_CircularApertureFlux_12_0_flag\", doc=\"general failure flag\"), Key['Flag'](offset=544, bit=9)),\n",
       "    (Field['Flag'](name=\"base_CircularApertureFlux_12_0_flag_apertureTruncated\", doc=\"aperture did not fit within measurement image\"), Key['Flag'](offset=544, bit=10)),\n",
       "    (Field['D'](name=\"base_CircularApertureFlux_17_0_flux\", doc=\"flux within 17.000000-pixel aperture\", units=\"count\"), Key<D>(offset=600, nElements=1)),\n",
       "    (Field['D'](name=\"base_CircularApertureFlux_17_0_fluxSigma\", doc=\"1-sigma flux uncertainty\", units=\"count\"), Key<D>(offset=608, nElements=1)),\n",
       "    (Field['Flag'](name=\"base_CircularApertureFlux_17_0_flag\", doc=\"general failure flag\"), Key['Flag'](offset=544, bit=11)),\n",
       "    (Field['Flag'](name=\"base_CircularApertureFlux_17_0_flag_apertureTruncated\", doc=\"aperture did not fit within measurement image\"), Key['Flag'](offset=544, bit=12)),\n",
       "    (Field['D'](name=\"base_CircularApertureFlux_25_0_flux\", doc=\"flux within 25.000000-pixel aperture\", units=\"count\"), Key<D>(offset=616, nElements=1)),\n",
       "    (Field['D'](name=\"base_CircularApertureFlux_25_0_fluxSigma\", doc=\"1-sigma flux uncertainty\", units=\"count\"), Key<D>(offset=624, nElements=1)),\n",
       "    (Field['Flag'](name=\"base_CircularApertureFlux_25_0_flag\", doc=\"general failure flag\"), Key['Flag'](offset=544, bit=13)),\n",
       "    (Field['Flag'](name=\"base_CircularApertureFlux_25_0_flag_apertureTruncated\", doc=\"aperture did not fit within measurement image\"), Key['Flag'](offset=544, bit=14)),\n",
       "    (Field['D'](name=\"base_CircularApertureFlux_35_0_flux\", doc=\"flux within 35.000000-pixel aperture\", units=\"count\"), Key<D>(offset=632, nElements=1)),\n",
       "    (Field['D'](name=\"base_CircularApertureFlux_35_0_fluxSigma\", doc=\"1-sigma flux uncertainty\", units=\"count\"), Key<D>(offset=640, nElements=1)),\n",
       "    (Field['Flag'](name=\"base_CircularApertureFlux_35_0_flag\", doc=\"general failure flag\"), Key['Flag'](offset=544, bit=15)),\n",
       "    (Field['Flag'](name=\"base_CircularApertureFlux_35_0_flag_apertureTruncated\", doc=\"aperture did not fit within measurement image\"), Key['Flag'](offset=544, bit=16)),\n",
       "    (Field['D'](name=\"base_CircularApertureFlux_50_0_flux\", doc=\"flux within 50.000000-pixel aperture\", units=\"count\"), Key<D>(offset=648, nElements=1)),\n",
       "    (Field['D'](name=\"base_CircularApertureFlux_50_0_fluxSigma\", doc=\"1-sigma flux uncertainty\", units=\"count\"), Key<D>(offset=656, nElements=1)),\n",
       "    (Field['Flag'](name=\"base_CircularApertureFlux_50_0_flag\", doc=\"general failure flag\"), Key['Flag'](offset=544, bit=17)),\n",
       "    (Field['Flag'](name=\"base_CircularApertureFlux_50_0_flag_apertureTruncated\", doc=\"aperture did not fit within measurement image\"), Key['Flag'](offset=544, bit=18)),\n",
       "    (Field['D'](name=\"base_CircularApertureFlux_70_0_flux\", doc=\"flux within 70.000000-pixel aperture\", units=\"count\"), Key<D>(offset=664, nElements=1)),\n",
       "    (Field['D'](name=\"base_CircularApertureFlux_70_0_fluxSigma\", doc=\"1-sigma flux uncertainty\", units=\"count\"), Key<D>(offset=672, nElements=1)),\n",
       "    (Field['Flag'](name=\"base_CircularApertureFlux_70_0_flag\", doc=\"general failure flag\"), Key['Flag'](offset=544, bit=19)),\n",
       "    (Field['Flag'](name=\"base_CircularApertureFlux_70_0_flag_apertureTruncated\", doc=\"aperture did not fit within measurement image\"), Key['Flag'](offset=544, bit=20)),\n",
       "    (Field['D'](name=\"base_GaussianFlux_flux\", doc=\"flux from Gaussian Flux algorithm\", units=\"count\"), Key<D>(offset=680, nElements=1)),\n",
       "    (Field['D'](name=\"base_GaussianFlux_fluxSigma\", doc=\"1-sigma flux uncertainty\", units=\"count\"), Key<D>(offset=688, nElements=1)),\n",
       "    (Field['Flag'](name=\"base_GaussianFlux_flag\", doc=\"general failure flag, set if anything went wrong\"), Key['Flag'](offset=544, bit=21)),\n",
       "    (Field['Flag'](name=\"base_PixelFlags_flag\", doc=\"general failure flag, set if anything went wring\"), Key['Flag'](offset=544, bit=22)),\n",
       "    (Field['Flag'](name=\"base_PixelFlags_flag_offimage\", doc=\"Source center is off image\"), Key['Flag'](offset=544, bit=23)),\n",
       "    (Field['Flag'](name=\"base_PixelFlags_flag_edge\", doc=\"Source is outside usable exposure region (masked EDGE or NO_DATA)\"), Key['Flag'](offset=544, bit=24)),\n",
       "    (Field['Flag'](name=\"base_PixelFlags_flag_interpolated\", doc=\"Interpolated pixel in the Source footprint\"), Key['Flag'](offset=544, bit=25)),\n",
       "    (Field['Flag'](name=\"base_PixelFlags_flag_saturated\", doc=\"Saturated pixel in the Source footprint\"), Key['Flag'](offset=544, bit=26)),\n",
       "    (Field['Flag'](name=\"base_PixelFlags_flag_cr\", doc=\"Cosmic ray in the Source footprint\"), Key['Flag'](offset=544, bit=27)),\n",
       "    (Field['Flag'](name=\"base_PixelFlags_flag_bad\", doc=\"Bad pixel in the Source footprint\"), Key['Flag'](offset=544, bit=28)),\n",
       "    (Field['Flag'](name=\"base_PixelFlags_flag_suspect\", doc=\"Source''''s footprint includes suspect pixels\"), Key['Flag'](offset=544, bit=29)),\n",
       "    (Field['Flag'](name=\"base_PixelFlags_flag_interpolatedCenter\", doc=\"Interpolated pixel in the Source center\"), Key['Flag'](offset=544, bit=30)),\n",
       "    (Field['Flag'](name=\"base_PixelFlags_flag_saturatedCenter\", doc=\"Saturated pixel in the Source center\"), Key['Flag'](offset=544, bit=31)),\n",
       "    (Field['Flag'](name=\"base_PixelFlags_flag_crCenter\", doc=\"Cosmic ray in the Source center\"), Key['Flag'](offset=544, bit=32)),\n",
       "    (Field['Flag'](name=\"base_PixelFlags_flag_suspectCenter\", doc=\"Source''''s center is close to suspect pixels\"), Key['Flag'](offset=544, bit=33)),\n",
       "    (Field['D'](name=\"base_PsfFlux_flux\", doc=\"flux derived from linear least-squares fit of PSF model\", units=\"count\"), Key<D>(offset=696, nElements=1)),\n",
       "    (Field['D'](name=\"base_PsfFlux_fluxSigma\", doc=\"1-sigma flux uncertainty\", units=\"count\"), Key<D>(offset=704, nElements=1)),\n",
       "    (Field['Flag'](name=\"base_PsfFlux_flag\", doc=\"general failure flag\"), Key['Flag'](offset=544, bit=34)),\n",
       "    (Field['Flag'](name=\"base_PsfFlux_flag_noGoodPixels\", doc=\"not enough non-rejected pixels in data to attempt the fit\"), Key['Flag'](offset=544, bit=35)),\n",
       "    (Field['Flag'](name=\"base_PsfFlux_flag_edge\", doc=\"object was too close to the edge of the image to use the full PSF model\"), Key['Flag'](offset=544, bit=36)),\n",
       "    (Field['D'](name=\"base_Variance_value\", doc=\"Variance at object position\"), Key<D>(offset=712, nElements=1)),\n",
       "    (Field['Flag'](name=\"base_Variance_flag\", doc=\"Set to True for any fatal failure\"), Key['Flag'](offset=544, bit=37)),\n",
       "    (Field['Flag'](name=\"base_Variance_flag_emptyFootprint\", doc=\"Set to True when the footprint has no usable pixels\"), Key['Flag'](offset=544, bit=38)),\n",
       "    (Field['D'](name=\"modelfit_CModel_initial_flux\", doc=\"flux from the initial fit\", units=\"count\"), Key<D>(offset=720, nElements=1)),\n",
       "    (Field['D'](name=\"modelfit_CModel_initial_fluxSigma\", doc=\"flux uncertainty from the initial fit\", units=\"count\"), Key<D>(offset=728, nElements=1)),\n",
       "    (Field['Flag'](name=\"modelfit_CModel_initial_flag\", doc=\"flag set when the flux for the initial flux failed\"), Key['Flag'](offset=544, bit=39)),\n",
       "    (Field['D'](name=\"modelfit_CModel_initial_flux_inner\", doc=\"flux within the fit region, with no extrapolation\"), Key<D>(offset=736, nElements=1)),\n",
       "    (Field['D'](name=\"modelfit_CModel_initial_ellipse_xx\", doc=\"half-light ellipse of the initial fit\", units=\"pixel^2\"), Key<D>(offset=744, nElements=1)),\n",
       "    (Field['D'](name=\"modelfit_CModel_initial_ellipse_yy\", doc=\"half-light ellipse of the initial fit\", units=\"pixel^2\"), Key<D>(offset=752, nElements=1)),\n",
       "    (Field['D'](name=\"modelfit_CModel_initial_ellipse_xy\", doc=\"half-light ellipse of the initial fit\", units=\"pixel^2\"), Key<D>(offset=760, nElements=1)),\n",
       "    (Field['D'](name=\"modelfit_CModel_initial_objective\", doc=\"-ln(likelihood*prior) at best-fit point for the initial fit\"), Key<D>(offset=768, nElements=1)),\n",
       "    (Field['D'](name=\"modelfit_CModel_initial_nonlinear_0\", doc=\"nonlinear parameters for the initial fit\"), Key<D>(offset=776, nElements=1)),\n",
       "    (Field['D'](name=\"modelfit_CModel_initial_nonlinear_1\", doc=\"nonlinear parameters for the initial fit\"), Key<D>(offset=784, nElements=1)),\n",
       "    (Field['D'](name=\"modelfit_CModel_initial_nonlinear_2\", doc=\"nonlinear parameters for the initial fit\"), Key<D>(offset=792, nElements=1)),\n",
       "    (Field['D'](name=\"modelfit_CModel_initial_fixed_0\", doc=\"fixed parameters for the initial fit\"), Key<D>(offset=800, nElements=1)),\n",
       "    (Field['D'](name=\"modelfit_CModel_initial_fixed_1\", doc=\"fixed parameters for the initial fit\"), Key<D>(offset=808, nElements=1)),\n",
       "    (Field['Flag'](name=\"modelfit_CModel_initial_flag_trSmall\", doc=\"the optimizer converged because the trust radius became too small; this is a less-secure result than when the gradient is below the threshold, but usually not a problem\"), Key['Flag'](offset=544, bit=40)),\n",
       "    (Field['Flag'](name=\"modelfit_CModel_initial_flag_maxIter\", doc=\"the optimizer hit the maximum number of iterations and did not converge\"), Key['Flag'](offset=544, bit=41)),\n",
       "    (Field['I'](name=\"modelfit_CModel_initial_nIter\", doc=\"Number of total iterations in stage\"), Key<I>(offset=816, nElements=1)),\n",
       "    (Field['D'](name=\"modelfit_CModel_initial_time\", doc=\"Time spent in stage\", units=\"second\"), Key<D>(offset=824, nElements=1)),\n",
       "    (Field['Flag'](name=\"modelfit_CModel_initial_flag_numericError\", doc=\"numerical underflow or overflow in model evaluation; usually this means the prior was insufficient to regularize the fit, or all pixel values were zero.\"), Key['Flag'](offset=544, bit=42)),\n",
       "    (Field['D'](name=\"modelfit_CModel_exp_flux\", doc=\"flux from the exponential fit\", units=\"count\"), Key<D>(offset=832, nElements=1)),\n",
       "    (Field['D'](name=\"modelfit_CModel_exp_fluxSigma\", doc=\"flux uncertainty from the exponential fit\", units=\"count\"), Key<D>(offset=840, nElements=1)),\n",
       "    (Field['Flag'](name=\"modelfit_CModel_exp_flag\", doc=\"flag set when the flux for the exponential flux failed\"), Key['Flag'](offset=544, bit=43)),\n",
       "    (Field['D'](name=\"modelfit_CModel_exp_flux_inner\", doc=\"flux within the fit region, with no extrapolation\"), Key<D>(offset=848, nElements=1)),\n",
       "    (Field['D'](name=\"modelfit_CModel_exp_ellipse_xx\", doc=\"half-light ellipse of the exponential fit\", units=\"pixel^2\"), Key<D>(offset=856, nElements=1)),\n",
       "    (Field['D'](name=\"modelfit_CModel_exp_ellipse_yy\", doc=\"half-light ellipse of the exponential fit\", units=\"pixel^2\"), Key<D>(offset=864, nElements=1)),\n",
       "    (Field['D'](name=\"modelfit_CModel_exp_ellipse_xy\", doc=\"half-light ellipse of the exponential fit\", units=\"pixel^2\"), Key<D>(offset=872, nElements=1)),\n",
       "    (Field['D'](name=\"modelfit_CModel_exp_objective\", doc=\"-ln(likelihood*prior) at best-fit point for the exponential fit\"), Key<D>(offset=880, nElements=1)),\n",
       "    (Field['D'](name=\"modelfit_CModel_exp_nonlinear_0\", doc=\"nonlinear parameters for the exponential fit\"), Key<D>(offset=888, nElements=1)),\n",
       "    (Field['D'](name=\"modelfit_CModel_exp_nonlinear_1\", doc=\"nonlinear parameters for the exponential fit\"), Key<D>(offset=896, nElements=1)),\n",
       "    (Field['D'](name=\"modelfit_CModel_exp_nonlinear_2\", doc=\"nonlinear parameters for the exponential fit\"), Key<D>(offset=904, nElements=1)),\n",
       "    (Field['D'](name=\"modelfit_CModel_exp_fixed_0\", doc=\"fixed parameters for the exponential fit\"), Key<D>(offset=912, nElements=1)),\n",
       "    (Field['D'](name=\"modelfit_CModel_exp_fixed_1\", doc=\"fixed parameters for the exponential fit\"), Key<D>(offset=920, nElements=1)),\n",
       "    (Field['Flag'](name=\"modelfit_CModel_exp_flag_trSmall\", doc=\"the optimizer converged because the trust radius became too small; this is a less-secure result than when the gradient is below the threshold, but usually not a problem\"), Key['Flag'](offset=544, bit=44)),\n",
       "    (Field['Flag'](name=\"modelfit_CModel_exp_flag_maxIter\", doc=\"the optimizer hit the maximum number of iterations and did not converge\"), Key['Flag'](offset=544, bit=45)),\n",
       "    (Field['I'](name=\"modelfit_CModel_exp_nIter\", doc=\"Number of total iterations in stage\"), Key<I>(offset=928, nElements=1)),\n",
       "    (Field['D'](name=\"modelfit_CModel_exp_time\", doc=\"Time spent in stage\", units=\"second\"), Key<D>(offset=936, nElements=1)),\n",
       "    (Field['Flag'](name=\"modelfit_CModel_exp_flag_numericError\", doc=\"numerical underflow or overflow in model evaluation; usually this means the prior was insufficient to regularize the fit, or all pixel values were zero.\"), Key['Flag'](offset=544, bit=46)),\n",
       "    (Field['D'](name=\"modelfit_CModel_dev_flux\", doc=\"flux from the de Vaucouleur fit\", units=\"count\"), Key<D>(offset=944, nElements=1)),\n",
       "    (Field['D'](name=\"modelfit_CModel_dev_fluxSigma\", doc=\"flux uncertainty from the de Vaucouleur fit\", units=\"count\"), Key<D>(offset=952, nElements=1)),\n",
       "    (Field['Flag'](name=\"modelfit_CModel_dev_flag\", doc=\"flag set when the flux for the de Vaucouleur flux failed\"), Key['Flag'](offset=544, bit=47)),\n",
       "    (Field['D'](name=\"modelfit_CModel_dev_flux_inner\", doc=\"flux within the fit region, with no extrapolation\"), Key<D>(offset=960, nElements=1)),\n",
       "    (Field['D'](name=\"modelfit_CModel_dev_ellipse_xx\", doc=\"half-light ellipse of the de Vaucouleur fit\", units=\"pixel^2\"), Key<D>(offset=968, nElements=1)),\n",
       "    (Field['D'](name=\"modelfit_CModel_dev_ellipse_yy\", doc=\"half-light ellipse of the de Vaucouleur fit\", units=\"pixel^2\"), Key<D>(offset=976, nElements=1)),\n",
       "    (Field['D'](name=\"modelfit_CModel_dev_ellipse_xy\", doc=\"half-light ellipse of the de Vaucouleur fit\", units=\"pixel^2\"), Key<D>(offset=984, nElements=1)),\n",
       "    (Field['D'](name=\"modelfit_CModel_dev_objective\", doc=\"-ln(likelihood*prior) at best-fit point for the de Vaucouleur fit\"), Key<D>(offset=992, nElements=1)),\n",
       "    (Field['D'](name=\"modelfit_CModel_dev_nonlinear_0\", doc=\"nonlinear parameters for the de Vaucouleur fit\"), Key<D>(offset=1000, nElements=1)),\n",
       "    (Field['D'](name=\"modelfit_CModel_dev_nonlinear_1\", doc=\"nonlinear parameters for the de Vaucouleur fit\"), Key<D>(offset=1008, nElements=1)),\n",
       "    (Field['D'](name=\"modelfit_CModel_dev_nonlinear_2\", doc=\"nonlinear parameters for the de Vaucouleur fit\"), Key<D>(offset=1016, nElements=1)),\n",
       "    (Field['D'](name=\"modelfit_CModel_dev_fixed_0\", doc=\"fixed parameters for the de Vaucouleur fit\"), Key<D>(offset=1024, nElements=1)),\n",
       "    (Field['D'](name=\"modelfit_CModel_dev_fixed_1\", doc=\"fixed parameters for the de Vaucouleur fit\"), Key<D>(offset=1032, nElements=1)),\n",
       "    (Field['Flag'](name=\"modelfit_CModel_dev_flag_trSmall\", doc=\"the optimizer converged because the trust radius became too small; this is a less-secure result than when the gradient is below the threshold, but usually not a problem\"), Key['Flag'](offset=544, bit=48)),\n",
       "    (Field['Flag'](name=\"modelfit_CModel_dev_flag_maxIter\", doc=\"the optimizer hit the maximum number of iterations and did not converge\"), Key['Flag'](offset=544, bit=49)),\n",
       "    (Field['I'](name=\"modelfit_CModel_dev_nIter\", doc=\"Number of total iterations in stage\"), Key<I>(offset=1040, nElements=1)),\n",
       "    (Field['D'](name=\"modelfit_CModel_dev_time\", doc=\"Time spent in stage\", units=\"second\"), Key<D>(offset=1048, nElements=1)),\n",
       "    (Field['Flag'](name=\"modelfit_CModel_dev_flag_numericError\", doc=\"numerical underflow or overflow in model evaluation; usually this means the prior was insufficient to regularize the fit, or all pixel values were zero.\"), Key['Flag'](offset=544, bit=50)),\n",
       "    (Field['D'](name=\"modelfit_CModel_flux\", doc=\"flux from the final cmodel fit\"), Key<D>(offset=1056, nElements=1)),\n",
       "    (Field['D'](name=\"modelfit_CModel_fluxSigma\", doc=\"flux uncertainty from the final cmodel fit\"), Key<D>(offset=1064, nElements=1)),\n",
       "    (Field['Flag'](name=\"modelfit_CModel_flag\", doc=\"flag set if the final cmodel fit (or any previous fit) failed\"), Key['Flag'](offset=544, bit=51)),\n",
       "    (Field['D'](name=\"modelfit_CModel_flux_inner\", doc=\"flux within the fit region, with no extrapolation\"), Key<D>(offset=1072, nElements=1)),\n",
       "    (Field['D'](name=\"modelfit_CModel_fracDev\", doc=\"fraction of flux in de Vaucouleur component\"), Key<D>(offset=1080, nElements=1)),\n",
       "    (Field['D'](name=\"modelfit_CModel_objective\", doc=\"-ln(likelihood) (chi^2) in cmodel fit\"), Key<D>(offset=1088, nElements=1)),\n",
       "    (Field['Flag'](name=\"modelfit_CModel_flag_region_maxArea\", doc=\"number of pixels in fit region exceeded the region.maxArea value\"), Key['Flag'](offset=544, bit=52)),\n",
       "    (Field['Flag'](name=\"modelfit_CModel_flag_region_maxBadPixelFraction\", doc=\"the fraction of bad/clipped pixels in the fit region exceeded region.maxBadPixelFraction\"), Key['Flag'](offset=544, bit=53)),\n",
       "    (Field['Flag'](name=\"modelfit_CModel_flags_region_usedFootprintArea\", doc=\"the pixel region for the initial fit was defined by the area of the Footprint\"), Key['Flag'](offset=544, bit=54)),\n",
       "    (Field['Flag'](name=\"modelfit_CModel_flags_region_usedPsfArea\", doc=\"the pixel region for the initial fit was set to a fixed factor of the PSF area\"), Key['Flag'](offset=544, bit=55)),\n",
       "    (Field['Flag'](name=\"modelfit_CModel_flags_region_usedInitialEllipseMin\", doc=\"the pixel region for the final fit was set to the lower bound defined by the initial fit\"), Key['Flag'](offset=544, bit=56)),\n",
       "    (Field['Flag'](name=\"modelfit_CModel_flags_region_usedInitialEllipseMax\", doc=\"the pixel region for the final fit was set to the upper bound defined by the initial fit\"), Key['Flag'](offset=544, bit=57)),\n",
       "    (Field['Flag'](name=\"modelfit_CModel_flag_noShape\", doc=\"the shape slot needed to initialize the parameters failed or was not defined\"), Key['Flag'](offset=544, bit=58)),\n",
       "    (Field['Flag'](name=\"modelfit_CModel_flags_smallShape\", doc=\"initial parameter guess resulted in negative radius; used minimum of 0.100000 pixels instead.\"), Key['Flag'](offset=544, bit=59)),\n",
       "    (Field['D'](name=\"modelfit_CModel_ellipse_xx\", doc=\"fracDev-weighted average of exp.ellipse and dev.ellipse\", units=\"pixel^2\"), Key<D>(offset=1096, nElements=1)),\n",
       "    (Field['D'](name=\"modelfit_CModel_ellipse_yy\", doc=\"fracDev-weighted average of exp.ellipse and dev.ellipse\", units=\"pixel^2\"), Key<D>(offset=1104, nElements=1)),\n",
       "    (Field['D'](name=\"modelfit_CModel_ellipse_xy\", doc=\"fracDev-weighted average of exp.ellipse and dev.ellipse\", units=\"pixel^2\"), Key<D>(offset=1112, nElements=1)),\n",
       "    (Field['D'](name=\"modelfit_CModel_region_initial_ellipse_xx\", doc=\"ellipse used to set the pixel region for the initial fit (before applying bad pixel mask)\", units=\"pixel^2\"), Key<D>(offset=1120, nElements=1)),\n",
       "    (Field['D'](name=\"modelfit_CModel_region_initial_ellipse_yy\", doc=\"ellipse used to set the pixel region for the initial fit (before applying bad pixel mask)\", units=\"pixel^2\"), Key<D>(offset=1128, nElements=1)),\n",
       "    (Field['D'](name=\"modelfit_CModel_region_initial_ellipse_xy\", doc=\"ellipse used to set the pixel region for the initial fit (before applying bad pixel mask)\", units=\"pixel^2\"), Key<D>(offset=1136, nElements=1)),\n",
       "    (Field['D'](name=\"modelfit_CModel_region_final_ellipse_xx\", doc=\"ellipse used to set the pixel region for the final fit (before applying bad pixel mask)\", units=\"pixel^2\"), Key<D>(offset=1144, nElements=1)),\n",
       "    (Field['D'](name=\"modelfit_CModel_region_final_ellipse_yy\", doc=\"ellipse used to set the pixel region for the final fit (before applying bad pixel mask)\", units=\"pixel^2\"), Key<D>(offset=1152, nElements=1)),\n",
       "    (Field['D'](name=\"modelfit_CModel_region_final_ellipse_xy\", doc=\"ellipse used to set the pixel region for the final fit (before applying bad pixel mask)\", units=\"pixel^2\"), Key<D>(offset=1160, nElements=1)),\n",
       "    (Field['Flag'](name=\"modelfit_CModel_flag_noShapeletPsf\", doc=\"the multishapelet fit to the PSF model did not succeed\"), Key['Flag'](offset=544, bit=60)),\n",
       "    (Field['Flag'](name=\"modelfit_CModel_flag_badCentroid\", doc=\"input centroid was not within the fit region (probably because it\"), Key['Flag'](offset=544, bit=61)),\n",
       "    (Field['Flag'](name=\"detect_isPatchInner\", doc=\"true if source is in the inner region of a coadd patch\"), Key['Flag'](offset=544, bit=62)),\n",
       "    (Field['Flag'](name=\"detect_isTractInner\", doc=\"true if source is in the inner region of a coadd tract\"), Key['Flag'](offset=544, bit=63)),\n",
       "    (Field['Flag'](name=\"detect_isPrimary\", doc=\"true if source has no children and is in the inner region of a coadd patch and is in the inner region of a coadd tract and is not \"detected\" in a pseudo-filter (see config.pseudoFilterList)\"), Key['Flag'](offset=1168, bit=0)),\n",
       "    (Field['D'](name=\"modelfit_CModel_exp_apCorr\", doc=\"aperture correction applied to modelfit_CModel_exp\"), Key<D>(offset=1176, nElements=1)),\n",
       "    (Field['D'](name=\"modelfit_CModel_exp_apCorrSigma\", doc=\"aperture correction applied to modelfit_CModel_exp\"), Key<D>(offset=1184, nElements=1)),\n",
       "    (Field['Flag'](name=\"modelfit_CModel_exp_flag_apCorr\", doc=\"set if unable to aperture correct modelfit_CModel_exp\"), Key['Flag'](offset=1168, bit=1)),\n",
       "    (Field['D'](name=\"base_PsfFlux_apCorr\", doc=\"aperture correction applied to base_PsfFlux\"), Key<D>(offset=1192, nElements=1)),\n",
       "    (Field['D'](name=\"base_PsfFlux_apCorrSigma\", doc=\"aperture correction applied to base_PsfFlux\"), Key<D>(offset=1200, nElements=1)),\n",
       "    (Field['Flag'](name=\"base_PsfFlux_flag_apCorr\", doc=\"set if unable to aperture correct base_PsfFlux\"), Key['Flag'](offset=1168, bit=2)),\n",
       "    (Field['D'](name=\"modelfit_CModel_apCorr\", doc=\"aperture correction applied to modelfit_CModel\"), Key<D>(offset=1208, nElements=1)),\n",
       "    (Field['D'](name=\"modelfit_CModel_apCorrSigma\", doc=\"aperture correction applied to modelfit_CModel\"), Key<D>(offset=1216, nElements=1)),\n",
       "    (Field['Flag'](name=\"modelfit_CModel_flag_apCorr\", doc=\"set if unable to aperture correct modelfit_CModel\"), Key['Flag'](offset=1168, bit=3)),\n",
       "    (Field['D'](name=\"modelfit_CModel_initial_apCorr\", doc=\"aperture correction applied to modelfit_CModel_initial\"), Key<D>(offset=1224, nElements=1)),\n",
       "    (Field['D'](name=\"modelfit_CModel_initial_apCorrSigma\", doc=\"aperture correction applied to modelfit_CModel_initial\"), Key<D>(offset=1232, nElements=1)),\n",
       "    (Field['Flag'](name=\"modelfit_CModel_initial_flag_apCorr\", doc=\"set if unable to aperture correct modelfit_CModel_initial\"), Key['Flag'](offset=1168, bit=4)),\n",
       "    (Field['D'](name=\"base_GaussianFlux_apCorr\", doc=\"aperture correction applied to base_GaussianFlux\"), Key<D>(offset=1240, nElements=1)),\n",
       "    (Field['D'](name=\"base_GaussianFlux_apCorrSigma\", doc=\"aperture correction applied to base_GaussianFlux\"), Key<D>(offset=1248, nElements=1)),\n",
       "    (Field['Flag'](name=\"base_GaussianFlux_flag_apCorr\", doc=\"set if unable to aperture correct base_GaussianFlux\"), Key['Flag'](offset=1168, bit=5)),\n",
       "    (Field['D'](name=\"modelfit_CModel_dev_apCorr\", doc=\"aperture correction applied to modelfit_CModel_dev\"), Key<D>(offset=1256, nElements=1)),\n",
       "    (Field['D'](name=\"modelfit_CModel_dev_apCorrSigma\", doc=\"aperture correction applied to modelfit_CModel_dev\"), Key<D>(offset=1264, nElements=1)),\n",
       "    (Field['Flag'](name=\"modelfit_CModel_dev_flag_apCorr\", doc=\"set if unable to aperture correct modelfit_CModel_dev\"), Key['Flag'](offset=1168, bit=6)),\n",
       "    (Field['D'](name=\"base_ClassificationExtendedness_value\", doc=\"Set to 1 for extended sources, 0 for point sources.\"), Key<D>(offset=1272, nElements=1)),\n",
       "    (Field['Flag'](name=\"base_ClassificationExtendedness_flag\", doc=\"Set to 1 for any fatal failure.\"), Key['Flag'](offset=1168, bit=7)),\n",
       "    (Field['Flag'](name=\"merge_measurement_i\", doc=\"Flag field set if the measurements here are from the i filter\"), Key['Flag'](offset=1168, bit=8)),\n",
       "    (Field['Flag'](name=\"merge_measurement_r\", doc=\"Flag field set if the measurements here are from the r filter\"), Key['Flag'](offset=1168, bit=9)),\n",
       "    (Field['Flag'](name=\"merge_measurement_z\", doc=\"Flag field set if the measurements here are from the z filter\"), Key['Flag'](offset=1168, bit=10)),\n",
       "    (Field['Flag'](name=\"merge_measurement_g\", doc=\"Flag field set if the measurements here are from the g filter\"), Key['Flag'](offset=1168, bit=11)),\n",
       "    (Field['Flag'](name=\"merge_measurement_y\", doc=\"Flag field set if the measurements here are from the y filter\"), Key['Flag'](offset=1168, bit=12)),\n",
       "    (Field['Flag'](name=\"merge_measurement_u\", doc=\"Flag field set if the measurements here are from the u filter\"), Key['Flag'](offset=1168, bit=13)),\n",
       "    'base_CircularApertureFlux_flag_badCentroid'->'base_SdssCentroid_flag'\n",
       "    'base_GaussianCentroid_flag_badInitialCentroid'->'base_SdssCentroid_flag'\n",
       "    'base_GaussianFlux_flag_badCentroid'->'base_SdssCentroid_flag'\n",
       "    'base_GaussianFlux_flag_badShape'->'ext_shapeHSM_HsmSourceMoments_flag'\n",
       "    'base_InputCount_flag_badCentroid'->'base_SdssCentroid_flag'\n",
       "    'base_NaiveCentroid_flag_badInitialCentroid'->'base_SdssCentroid_flag'\n",
       "    'base_PsfFlux_flag_badCentroid'->'base_SdssCentroid_flag'\n",
       "    'base_SdssShape_flag_badCentroid'->'base_SdssCentroid_flag'\n",
       "    'base_Variance_flag_badCentroid'->'base_SdssCentroid_flag'\n",
       "    'ext_shapeHSM_HsmPsfMoments_flag_badCentroid'->'base_SdssCentroid_flag'\n",
       "    'ext_shapeHSM_HsmShapeRegauss_flag_badCentroid'->'base_SdssCentroid_flag'\n",
       "    'ext_shapeHSM_HsmSourceMoments_flag_badCentroid'->'base_SdssCentroid_flag'\n",
       "    'modelfit_DoubleShapeletPsfApprox_flag_badCentroid'->'base_SdssCentroid_flag'\n",
       "    'slot_ApFlux'->'base_CircularApertureFlux_12_0'\n",
       "    'slot_CalibFlux'->'base_CircularApertureFlux_12_0'\n",
       "    'slot_Centroid'->'base_SdssCentroid'\n",
       "    'slot_InstFlux'->'base_GaussianFlux'\n",
       "    'slot_ModelFlux'->'modelfit_CModel'\n",
       "    'slot_PsfFlux'->'base_PsfFlux'\n",
       "    'slot_Shape'->'ext_shapeHSM_HsmSourceMoments'\n",
       ")"
      ]
     },
     "execution_count": 22,
     "metadata": {},
     "output_type": "execute_result"
    }
   ],
   "source": [
    "catalog.schema"
   ]
  },
  {
   "cell_type": "code",
   "execution_count": 24,
   "metadata": {
    "collapsed": true
   },
   "outputs": [],
   "source": [
    "calib = exposure.getCalib()\n",
    "calib.setThrowOnNegativeFlux(False)  # don't raise an exception when we encounter a negative or NaN flux\n",
    "psfMag, psfMagErr = calib.getMagnitude(catalog.getPsfFlux(), catalog.getPsfFluxErr())"
   ]
  },
  {
   "cell_type": "code",
   "execution_count": 46,
   "metadata": {
    "collapsed": false
   },
   "outputs": [
    {
     "data": {
      "text/plain": [
       "<matplotlib.text.Text at 0x7fffa7abdfd0>"
      ]
     },
     "execution_count": 46,
     "metadata": {},
     "output_type": "execute_result"
    },
    {
     "data": {
      "image/png": "[encoded data removed]",
      "text/plain": [
       "<matplotlib.figure.Figure at 0x7fffa7ac1210>"
      ]
     },
     "metadata": {},
     "output_type": "display_data"
    }
   ],
   "source": [
    "plt.hist(psfMag,range=(15,30),bins=60,normed=True)\n",
    "plt.xlabel(r'r$_{ab}$')\n",
    "plt.ylabel(r'$N(r)$')"
   ]
  },
  {
   "cell_type": "code",
   "execution_count": 44,
   "metadata": {
    "collapsed": false
   },
   "outputs": [
    {
     "data": {
      "text/plain": [
       "<matplotlib.text.Text at 0x7fffacfd5b90>"
      ]
     },
     "execution_count": 44,
     "metadata": {},
     "output_type": "execute_result"
    },
    {
     "data": {
      "image/png": "[encoded data removed]",
      "text/plain": [
       "<matplotlib.figure.Figure at 0x7fffa7ae81d0>"
      ]
     },
     "metadata": {},
     "output_type": "display_data"
    }
   ],
   "source": [
    "plt.scatter(catalog.get(\"coord_ra\")*180/np.pi,catalog.get(\"coord_dec\")*180/np.pi,marker='.',color='k')\n",
    "plt.xlabel('RA [degrees]')\n",
    "plt.ylabel('Dec [degrees]')"
   ]
  },
  {
   "cell_type": "code",
   "execution_count": null,
   "metadata": {
    "collapsed": true
   },
   "outputs": [],
   "source": []
  }
 ],
 "metadata": {
  "anaconda-cloud": {},
  "kernelspec": {
   "display_name": "lsst",
   "language": "python",
   "name": "lsst"
  },
  "language_info": {
   "codemirror_mode": {
    "name": "ipython",
    "version": 2
   },
   "file_extension": ".py",
   "mimetype": "text/x-python",
   "name": "python",
   "nbconvert_exporter": "python",
   "pygments_lexer": "ipython2",
   "version": "2.7.12"
  }
 },
 "nbformat": 4,
 "nbformat_minor": 0
}
